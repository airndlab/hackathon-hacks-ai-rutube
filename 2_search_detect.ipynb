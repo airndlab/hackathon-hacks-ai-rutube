{
 "cells": [
  {
   "cell_type": "markdown",
   "id": "2e90faba-f3d0-4c02-b354-64610e275052",
   "metadata": {},
   "source": [
    "## Рабочий вариант с map-ой"
   ]
  },
  {
   "cell_type": "code",
   "execution_count": 38,
   "id": "a005e7c3-ae64-4d9c-b17a-801183455416",
   "metadata": {
    "execution": {
     "iopub.execute_input": "2023-11-25T06:48:36.281785Z",
     "iopub.status.busy": "2023-11-25T06:48:36.281362Z",
     "iopub.status.idle": "2023-11-25T06:48:36.285403Z",
     "shell.execute_reply": "2023-11-25T06:48:36.284966Z",
     "shell.execute_reply.started": "2023-11-25T06:48:36.281764Z"
    }
   },
   "outputs": [],
   "source": [
    "# English-to-Russian mapping\n",
    "en_to_ru_mapping = {\n",
    "    'q': 'й', 'w': 'ц', 'e': 'у', 'r': 'к', 't': 'е', 'y': 'н', 'u': 'г',\n",
    "    'i': 'ш', 'o': 'щ', 'p': 'з', '[': 'х', ']': 'ъ', 'a': 'ф', 's': 'ы',\n",
    "    'd': 'в', 'f': 'а', 'g': 'п', 'h': 'р', 'j': 'о', 'k': 'л', 'l': 'д',\n",
    "    ';': 'ж', \"'\": 'э', 'z': 'я', 'x': 'ч', 'c': 'с', 'v': 'м', 'b': 'и',\n",
    "    'n': 'т', 'm': 'ь', ',': 'б', '.': 'ю', '/': '.', '`': 'ё', \n",
    "    # Add uppercase mappings if necessary\n",
    "}\n",
    "\n",
    "# Russian-to-English mapping (reverse of the above)\n",
    "ru_to_en_mapping = {v: k for k, v in en_to_ru_mapping.items()}\n"
   ]
  },
  {
   "cell_type": "code",
   "execution_count": 39,
   "id": "9f78e1a5-0776-4cb5-8d9c-1b766e06722e",
   "metadata": {
    "execution": {
     "iopub.execute_input": "2023-11-25T06:48:44.528879Z",
     "iopub.status.busy": "2023-11-25T06:48:44.528345Z",
     "iopub.status.idle": "2023-11-25T06:48:44.532038Z",
     "shell.execute_reply": "2023-11-25T06:48:44.531597Z",
     "shell.execute_reply.started": "2023-11-25T06:48:44.528861Z"
    }
   },
   "outputs": [],
   "source": [
    "def detect_and_correct_layout(text):\n",
    "    if any(char in en_to_ru_mapping for char in text):\n",
    "        # Text is likely in English layout but meant to be Russian\n",
    "        return ''.join(en_to_ru_mapping.get(ch, ch) for ch in text)\n",
    "    elif any(char in ru_to_en_mapping for char in text):\n",
    "        # Text is likely in Russian layout but meant to be English\n",
    "        return ''.join(ru_to_en_mapping.get(ch, ch) for ch in text)\n",
    "    return text\n"
   ]
  },
  {
   "cell_type": "code",
   "execution_count": 40,
   "id": "7dca0ee7-c6c0-4876-8666-36cbc664853b",
   "metadata": {
    "execution": {
     "iopub.execute_input": "2023-11-25T06:48:46.863229Z",
     "iopub.status.busy": "2023-11-25T06:48:46.862825Z",
     "iopub.status.idle": "2023-11-25T06:48:46.866283Z",
     "shell.execute_reply": "2023-11-25T06:48:46.865878Z",
     "shell.execute_reply.started": "2023-11-25T06:48:46.863210Z"
    }
   },
   "outputs": [
    {
     "name": "stdout",
     "output_type": "stream",
     "text": [
      "привет\n",
      "hello\n"
     ]
    }
   ],
   "source": [
    "# Example usage\n",
    "incorrect_text_en = \"ghbdtn\"  # \"привет\" typed in English layout\n",
    "incorrect_text_ru = \"руддщ\"   # \"hello\" typed in Russian layout\n",
    "\n",
    "corrected_text_en = detect_and_correct_layout(incorrect_text_en)\n",
    "corrected_text_ru = detect_and_correct_layout(incorrect_text_ru)\n",
    "\n",
    "print(corrected_text_en)  # Output should be \"привет\"\n",
    "print(corrected_text_ru)  # Output should be \"hello\"\n"
   ]
  },
  {
   "cell_type": "code",
   "execution_count": null,
   "id": "3c97c82a-1227-431e-bbfa-3a1759d4c036",
   "metadata": {},
   "outputs": [],
   "source": []
  }
 ],
 "metadata": {
  "kernelspec": {
   "display_name": "Python 3 (ipykernel)",
   "language": "python",
   "name": "python3"
  },
  "language_info": {
   "codemirror_mode": {
    "name": "ipython",
    "version": 3
   },
   "file_extension": ".py",
   "mimetype": "text/x-python",
   "name": "python",
   "nbconvert_exporter": "python",
   "pygments_lexer": "ipython3",
   "version": "3.11.6"
  }
 },
 "nbformat": 4,
 "nbformat_minor": 5
}
