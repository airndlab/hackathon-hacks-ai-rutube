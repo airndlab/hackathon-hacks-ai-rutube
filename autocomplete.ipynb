{
 "cells": [
  {
   "cell_type": "code",
   "execution_count": 19,
   "id": "1e129650-af50-4427-998d-ccfb1427df22",
   "metadata": {
    "execution": {
     "iopub.execute_input": "2023-11-24T23:53:06.547907Z",
     "iopub.status.busy": "2023-11-24T23:53:06.547379Z",
     "iopub.status.idle": "2023-11-24T23:53:11.541829Z",
     "shell.execute_reply": "2023-11-24T23:53:11.541276Z",
     "shell.execute_reply.started": "2023-11-24T23:53:06.547885Z"
    }
   },
   "outputs": [
    {
     "name": "stdout",
     "output_type": "stream",
     "text": [
      "Requirement already satisfied: fast-autocomplete in /opt/conda/lib/python3.11/site-packages (0.9.0)\n",
      "Requirement already satisfied: Levenshtein in /opt/conda/lib/python3.11/site-packages (0.23.0)\n",
      "Requirement already satisfied: rapidfuzz<4.0.0,>=3.1.0 in /opt/conda/lib/python3.11/site-packages (from Levenshtein) (3.5.2)\n"
     ]
    }
   ],
   "source": [
    "!pip install fast-autocomplete\n",
    "!pip install Levenshtein"
   ]
  },
  {
   "cell_type": "code",
   "execution_count": 2,
   "id": "30c07ef0-e1e7-4f24-a944-0ea6d8613e77",
   "metadata": {
    "execution": {
     "iopub.execute_input": "2023-11-25T01:11:27.062207Z",
     "iopub.status.busy": "2023-11-25T01:11:27.061780Z",
     "iopub.status.idle": "2023-11-25T01:11:27.494133Z",
     "shell.execute_reply": "2023-11-25T01:11:27.493704Z",
     "shell.execute_reply.started": "2023-11-25T01:11:27.062190Z"
    }
   },
   "outputs": [],
   "source": [
    "from fast_autocomplete import AutoComplete\n",
    "import string"
   ]
  },
  {
   "cell_type": "code",
   "execution_count": 21,
   "id": "cc8ec096-2c1b-418b-adf0-a5f3fdbbc16e",
   "metadata": {
    "execution": {
     "iopub.execute_input": "2023-11-24T23:53:51.103438Z",
     "iopub.status.busy": "2023-11-24T23:53:51.102854Z",
     "iopub.status.idle": "2023-11-24T23:53:51.107465Z",
     "shell.execute_reply": "2023-11-24T23:53:51.107058Z",
     "shell.execute_reply.started": "2023-11-24T23:53:51.103416Z"
    }
   },
   "outputs": [
    {
     "data": {
      "text/plain": [
       "[['pizza']]"
      ]
     },
     "execution_count": 21,
     "metadata": {},
     "output_type": "execute_result"
    }
   ],
   "source": [
    "words = {'book': {}, 'burrito': {}, 'pizza': {}, 'pasta':{}}\n",
    "autocomplete = AutoComplete(words=words)\n",
    "autocomplete.search(word='pazza', max_cost=3, size=3)"
   ]
  },
  {
   "cell_type": "code",
   "execution_count": 24,
   "id": "6d9e6966-ab1b-471c-af7b-a5d9f1235f4e",
   "metadata": {
    "execution": {
     "iopub.execute_input": "2023-11-24T23:54:05.536901Z",
     "iopub.status.busy": "2023-11-24T23:54:05.536497Z",
     "iopub.status.idle": "2023-11-24T23:54:05.540695Z",
     "shell.execute_reply": "2023-11-24T23:54:05.540312Z",
     "shell.execute_reply.started": "2023-11-24T23:54:05.536883Z"
    }
   },
   "outputs": [
    {
     "data": {
      "text/plain": [
       "[['пиво пей'], ['пивоварня']]"
      ]
     },
     "execution_count": 24,
     "metadata": {},
     "output_type": "execute_result"
    }
   ],
   "source": [
    "words = {'пиво пей': {}, 'пива много выпил': {}, 'пивоварня': {}}\n",
    "autocomplete = AutoComplete(words=words, valid_chars_for_string=\"абвгдеёжзийклмнопрстуфхцчшщьЪыэюя\")\n",
    "autocomplete.search(word='пиво', max_cost=1, size=3)"
   ]
  },
  {
   "cell_type": "code",
   "execution_count": 47,
   "id": "beeda0c0-25e9-4e36-b097-02bbff3f53e7",
   "metadata": {
    "execution": {
     "iopub.execute_input": "2023-11-25T00:19:43.945758Z",
     "iopub.status.busy": "2023-11-25T00:19:43.945320Z",
     "iopub.status.idle": "2023-11-25T00:19:43.949477Z",
     "shell.execute_reply": "2023-11-25T00:19:43.949088Z",
     "shell.execute_reply.started": "2023-11-25T00:19:43.945740Z"
    }
   },
   "outputs": [
    {
     "data": {
      "text/plain": [
       "[['пиво пей']]"
      ]
     },
     "execution_count": 47,
     "metadata": {},
     "output_type": "execute_result"
    }
   ],
   "source": [
    "words = {'пиво пей': {}, 'пива много выпил': {}}\n",
    "autocomplete = AutoComplete(words=words, valid_chars_for_string=\"абвгдеёжзийклмнопрстуфхцчшщьЪыэюя\")\n",
    "autocomplete.search(word='пиво', max_cost=1, size=3)"
   ]
  },
  {
   "cell_type": "code",
   "execution_count": 63,
   "id": "7969b5b5-55d2-4e64-a0a0-0d7084686e44",
   "metadata": {},
   "outputs": [
    {
     "data": {
      "text/plain": [
       "[['ål']]"
      ]
     },
     "execution_count": 63,
     "metadata": {},
     "output_type": "execute_result"
    }
   ],
   "source": [
    "def construct_autocomplete_dict(vocab: list, freq: list) -> dict:\n",
    "    return {word: {\"count\": freq} for word, freq in zip(vocab, freq)}\n",
    "\n",
    "ac_dict = construct_autocomplete_dict(['ål', 'øver', 'ære', 'ere', 'öra'], [1,2,3,4,5])\n",
    "ac = AutoComplete(ac_dict, valid_chars_for_string=\"æøåö\")\n",
    "ac.search('ål')"
   ]
  },
  {
   "cell_type": "code",
   "execution_count": 3,
   "id": "c99f4660-b334-465e-a135-d24be38659ab",
   "metadata": {
    "execution": {
     "iopub.execute_input": "2023-11-25T01:11:29.141491Z",
     "iopub.status.busy": "2023-11-25T01:11:29.140868Z",
     "iopub.status.idle": "2023-11-25T01:11:29.144150Z",
     "shell.execute_reply": "2023-11-25T01:11:29.143712Z",
     "shell.execute_reply.started": "2023-11-25T01:11:29.141472Z"
    }
   },
   "outputs": [],
   "source": [
    "import pandas as pd\n",
    "pd.set_option('display.max_rows', 100)\n",
    "pd.set_option('display.max_columns', 100)\n",
    "pd.set_option('display.max_colwidth', 2000)"
   ]
  },
  {
   "cell_type": "code",
   "execution_count": 4,
   "id": "99f5ecf5-b7bf-4586-b0e0-786373916b9f",
   "metadata": {
    "execution": {
     "iopub.execute_input": "2023-11-25T01:11:29.845377Z",
     "iopub.status.busy": "2023-11-25T01:11:29.844839Z",
     "iopub.status.idle": "2023-11-25T01:11:51.417355Z",
     "shell.execute_reply": "2023-11-25T01:11:51.416900Z",
     "shell.execute_reply.started": "2023-11-25T01:11:29.845360Z"
    }
   },
   "outputs": [],
   "source": [
    "videos = pd.read_parquet(\n",
    "    'our_datasets/all_videos.parquet',\n",
    "    engine='fastparquet',\n",
    "    columns=['video_id', 'video_title','v_year_views']\n",
    ")"
   ]
  },
  {
   "cell_type": "code",
   "execution_count": 5,
   "id": "1592fc24-21f1-4bdc-b563-2e39e25b6948",
   "metadata": {
    "execution": {
     "iopub.execute_input": "2023-11-25T01:11:51.418580Z",
     "iopub.status.busy": "2023-11-25T01:11:51.418209Z",
     "iopub.status.idle": "2023-11-25T01:11:51.430083Z",
     "shell.execute_reply": "2023-11-25T01:11:51.429708Z",
     "shell.execute_reply.started": "2023-11-25T01:11:51.418563Z"
    }
   },
   "outputs": [
    {
     "data": {
      "text/html": [
       "<div>\n",
       "<style scoped>\n",
       "    .dataframe tbody tr th:only-of-type {\n",
       "        vertical-align: middle;\n",
       "    }\n",
       "\n",
       "    .dataframe tbody tr th {\n",
       "        vertical-align: top;\n",
       "    }\n",
       "\n",
       "    .dataframe thead th {\n",
       "        text-align: right;\n",
       "    }\n",
       "</style>\n",
       "<table border=\"1\" class=\"dataframe\">\n",
       "  <thead>\n",
       "    <tr style=\"text-align: right;\">\n",
       "      <th></th>\n",
       "      <th>video_id</th>\n",
       "      <th>video_title</th>\n",
       "      <th>v_year_views</th>\n",
       "    </tr>\n",
       "  </thead>\n",
       "  <tbody>\n",
       "    <tr>\n",
       "      <th>0</th>\n",
       "      <td>video_6484084</td>\n",
       "      <td>Palia. Рыбалка за час. От 3 до 12 000 голды!</td>\n",
       "      <td>3.0</td>\n",
       "    </tr>\n",
       "    <tr>\n",
       "      <th>1</th>\n",
       "      <td>video_1522415</td>\n",
       "      <td>Прощание пройдет на чужбине...Нам будет не хватать Сенчуковой и Рыбина....</td>\n",
       "      <td>2.0</td>\n",
       "    </tr>\n",
       "    <tr>\n",
       "      <th>2</th>\n",
       "      <td>video_642363</td>\n",
       "      <td>#ДОБРОЛАП. ТВОРИМ ДОБРО ВМЕСТЕ!</td>\n",
       "      <td>2.0</td>\n",
       "    </tr>\n",
       "    <tr>\n",
       "      <th>3</th>\n",
       "      <td>video_10124356</td>\n",
       "      <td>8</td>\n",
       "      <td>1.0</td>\n",
       "    </tr>\n",
       "    <tr>\n",
       "      <th>4</th>\n",
       "      <td>video_16299346</td>\n",
       "      <td>Как обновить или переподключить аккаунт ВК в сервисе Best Liders</td>\n",
       "      <td>1.0</td>\n",
       "    </tr>\n",
       "    <tr>\n",
       "      <th>...</th>\n",
       "      <td>...</td>\n",
       "      <td>...</td>\n",
       "      <td>...</td>\n",
       "    </tr>\n",
       "    <tr>\n",
       "      <th>34404391</th>\n",
       "      <td>video_29233614</td>\n",
       "      <td>Tarana - 'Myvatn' (Official Video)</td>\n",
       "      <td>1.0</td>\n",
       "    </tr>\n",
       "    <tr>\n",
       "      <th>34404392</th>\n",
       "      <td>video_26322511</td>\n",
       "      <td>02.02.22 в 10.30 на Губернии ТБТ-Самара, ТБТ-Тольятти</td>\n",
       "      <td>NaN</td>\n",
       "    </tr>\n",
       "    <tr>\n",
       "      <th>34404393</th>\n",
       "      <td>video_26756769</td>\n",
       "      <td></td>\n",
       "      <td>8.0</td>\n",
       "    </tr>\n",
       "    <tr>\n",
       "      <th>34404394</th>\n",
       "      <td>video_13325265</td>\n",
       "      <td>ВОДОЛЕЙ ГОРОСКОП НА 26.12.2022-01.01.2023г</td>\n",
       "      <td>15.0</td>\n",
       "    </tr>\n",
       "    <tr>\n",
       "      <th>34404395</th>\n",
       "      <td>video_21098247</td>\n",
       "      <td>#сад #шизандра / Плодово-ягодный сад для начинающего садовода. Китайский лимонник( лат. schisandra)</td>\n",
       "      <td>1.0</td>\n",
       "    </tr>\n",
       "  </tbody>\n",
       "</table>\n",
       "<p>34404396 rows × 3 columns</p>\n",
       "</div>"
      ],
      "text/plain": [
       "                video_id  \\\n",
       "0          video_6484084   \n",
       "1          video_1522415   \n",
       "2           video_642363   \n",
       "3         video_10124356   \n",
       "4         video_16299346   \n",
       "...                  ...   \n",
       "34404391  video_29233614   \n",
       "34404392  video_26322511   \n",
       "34404393  video_26756769   \n",
       "34404394  video_13325265   \n",
       "34404395  video_21098247   \n",
       "\n",
       "                                                                                                  video_title  \\\n",
       "0                                                                Palia. Рыбалка за час. От 3 до 12 000 голды!   \n",
       "1                                  Прощание пройдет на чужбине...Нам будет не хватать Сенчуковой и Рыбина....   \n",
       "2                                                                             #ДОБРОЛАП. ТВОРИМ ДОБРО ВМЕСТЕ!   \n",
       "3                                                                                                           8   \n",
       "4                                            Как обновить или переподключить аккаунт ВК в сервисе Best Liders   \n",
       "...                                                                                                       ...   \n",
       "34404391                                                                   Tarana - 'Myvatn' (Official Video)   \n",
       "34404392                                                02.02.22 в 10.30 на Губернии ТБТ-Самара, ТБТ-Тольятти   \n",
       "34404393                                                                                                        \n",
       "34404394                                                           ВОДОЛЕЙ ГОРОСКОП НА 26.12.2022-01.01.2023г   \n",
       "34404395  #сад #шизандра / Плодово-ягодный сад для начинающего садовода. Китайский лимонник( лат. schisandra)   \n",
       "\n",
       "          v_year_views  \n",
       "0                  3.0  \n",
       "1                  2.0  \n",
       "2                  2.0  \n",
       "3                  1.0  \n",
       "4                  1.0  \n",
       "...                ...  \n",
       "34404391           1.0  \n",
       "34404392           NaN  \n",
       "34404393           8.0  \n",
       "34404394          15.0  \n",
       "34404395           1.0  \n",
       "\n",
       "[34404396 rows x 3 columns]"
      ]
     },
     "execution_count": 5,
     "metadata": {},
     "output_type": "execute_result"
    }
   ],
   "source": [
    "videos"
   ]
  },
  {
   "cell_type": "code",
   "execution_count": 10,
   "id": "6beb4279-510d-4c2c-a0d8-61a642164dd6",
   "metadata": {
    "execution": {
     "iopub.execute_input": "2023-11-25T01:12:17.750010Z",
     "iopub.status.busy": "2023-11-25T01:12:17.749676Z",
     "iopub.status.idle": "2023-11-25T01:12:21.926319Z",
     "shell.execute_reply": "2023-11-25T01:12:21.925845Z",
     "shell.execute_reply.started": "2023-11-25T01:12:17.749994Z"
    }
   },
   "outputs": [],
   "source": [
    "top_titles = videos.sort_values(by=['v_year_views'], ascending=False).head(10000)"
   ]
  },
  {
   "cell_type": "code",
   "execution_count": 11,
   "id": "9b26e700-62a8-4d1a-b97e-726e85f8544f",
   "metadata": {
    "execution": {
     "iopub.execute_input": "2023-11-25T01:12:21.927318Z",
     "iopub.status.busy": "2023-11-25T01:12:21.927162Z",
     "iopub.status.idle": "2023-11-25T01:12:21.966061Z",
     "shell.execute_reply": "2023-11-25T01:12:21.965427Z",
     "shell.execute_reply.started": "2023-11-25T01:12:21.927305Z"
    }
   },
   "outputs": [],
   "source": [
    "import re\n",
    "autocomplete_titles = {}\n",
    "for row in top_titles.itertuples():\n",
    "    #print(row)\n",
    "    word = row[2]\n",
    "    word = re.sub(\"[^а-яА-ЯЁё0-9a-zA-Z ]\",\"\",word)\n",
    "    word = word.lower()\n",
    "    count = int(row[3])\n",
    "    autocomplete_titles[word] = {\"count\": count}"
   ]
  },
  {
   "cell_type": "code",
   "execution_count": 18,
   "id": "ff188347-b71e-49b7-a91c-d2129cfe0dae",
   "metadata": {
    "execution": {
     "iopub.execute_input": "2023-11-25T01:13:24.512593Z",
     "iopub.status.busy": "2023-11-25T01:13:24.512038Z",
     "iopub.status.idle": "2023-11-25T01:13:24.930303Z",
     "shell.execute_reply": "2023-11-25T01:13:24.929599Z",
     "shell.execute_reply.started": "2023-11-25T01:13:24.512576Z"
    }
   },
   "outputs": [
    {
     "data": {
      "text/plain": [
       "[['битва'],\n",
       " ['битва экстрасенсов 22 сезон 1 выпуск'],\n",
       " ['битва экстрасенсов 22 сезон 14 выпуск'],\n",
       " ['битва экстрасенсов 22 сезон 10 выпуск'],\n",
       " ['битва экстрасенсов 22 сезон 11 выпуск'],\n",
       " ['битва экстрасенсов 22 сезон 2 выпуск'],\n",
       " ['битва экстрасенсов 22 сезон 5 выпуск'],\n",
       " ['битва экстрасенсов 22 сезон 4 выпуск'],\n",
       " ['битва экстрасенсов 22 сезон 13 выпуск'],\n",
       " ['битва экстрасенсов 22 сезон  12 выпуск']]"
      ]
     },
     "execution_count": 18,
     "metadata": {},
     "output_type": "execute_result"
    }
   ],
   "source": [
    "autocomplete = AutoComplete(words=autocomplete_titles, valid_chars_for_string=\"абвгдеёжзийклмнопрстуфхцчшщьЪыэюя\")\n",
    "autocomplete.search(word='битва эктр', max_cost=3, size=10)"
   ]
  },
  {
   "cell_type": "code",
   "execution_count": 122,
   "id": "b477fd1b-b4bc-47e3-b432-2ce3a191626a",
   "metadata": {
    "execution": {
     "iopub.execute_input": "2023-11-25T00:42:10.318398Z",
     "iopub.status.busy": "2023-11-25T00:42:10.317972Z",
     "iopub.status.idle": "2023-11-25T00:42:10.420229Z",
     "shell.execute_reply": "2023-11-25T00:42:10.419550Z",
     "shell.execute_reply.started": "2023-11-25T00:42:10.318382Z"
    }
   },
   "outputs": [],
   "source": [
    "import json \n",
    "with open(\"our_indexes/autocomplete_quieries_40K.json\", \"w\") as outfile: \n",
    "    json.dump(autocomplete_titles, outfile)"
   ]
  },
  {
   "cell_type": "code",
   "execution_count": null,
   "id": "8f9f4bb1-5f0d-435d-85f7-6f1ddeb71b26",
   "metadata": {},
   "outputs": [],
   "source": []
  }
 ],
 "metadata": {
  "kernelspec": {
   "display_name": "Python 3 (ipykernel)",
   "language": "python",
   "name": "python3"
  },
  "language_info": {
   "codemirror_mode": {
    "name": "ipython",
    "version": 3
   },
   "file_extension": ".py",
   "mimetype": "text/x-python",
   "name": "python",
   "nbconvert_exporter": "python",
   "pygments_lexer": "ipython3",
   "version": "3.11.6"
  }
 },
 "nbformat": 4,
 "nbformat_minor": 5
}
