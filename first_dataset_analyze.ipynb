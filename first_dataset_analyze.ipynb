{
 "cells": [
  {
   "cell_type": "code",
   "execution_count": 2,
   "id": "b9b5fef5-c34e-4ea5-a3f9-3d36a15b830c",
   "metadata": {},
   "outputs": [],
   "source": [
    "import polars as pl\n",
    "import pandas as pd\n",
    "import re  \n",
    "from time import time \n",
    "from collections import defaultdict\n",
    "\n",
    "import spacy\n"
   ]
  },
  {
   "cell_type": "code",
   "execution_count": 3,
   "id": "40085aa9-fafd-47db-8be6-c904fc7a23c6",
   "metadata": {},
   "outputs": [
    {
     "name": "stderr",
     "output_type": "stream",
     "text": [
      "[nltk_data] Downloading package stopwords to /home/jovyan/nltk_data...\n",
      "[nltk_data]   Package stopwords is already up-to-date!\n"
     ]
    }
   ],
   "source": [
    "import nltk\n",
    "nltk.download(\"stopwords\")\n",
    "from nltk.corpus import stopwords\n",
    "from nltk.stem import WordNetLemmatizer\n",
    "from sklearn.metrics.pairwise import cosine_similarity\n",
    "from nltk.tokenize import RegexpTokenizer\n",
    "\n",
    "from nltk.corpus import stopwords\n",
    "russian_stopwords = stopwords.words(\"russian\")\n",
    "lemmatizer = WordNetLemmatizer()\n",
    "tokenizer = RegexpTokenizer(r'\\w+')\n",
    "def preprocess_text(text):\n",
    "    if text is None:\n",
    "        return ''\n",
    "    tokens = tokenizer.tokenize(text.lower())\n",
    "    tokens = [token for token in tokens if token not in russian_stopwords]\n",
    "    tokens = [lemmatizer.lemmatize(token) for token in tokens]\n",
    "    return ' '.join(tokens)"
   ]
  },
  {
   "cell_type": "code",
   "execution_count": 4,
   "id": "05dd46a6-f398-450e-97d4-8684ebdf17f8",
   "metadata": {},
   "outputs": [],
   "source": [
    "# from tqdm import tqdm\n",
    "# tqdm.pandas()\n",
    "\n",
    "# from pandarallel import pandarallel\n",
    "# pandarallel.initialize(progress_bar=True)"
   ]
  },
  {
   "cell_type": "code",
   "execution_count": 5,
   "id": "435e0193-5d72-4ca8-9b20-61a8b80a3da5",
   "metadata": {},
   "outputs": [],
   "source": [
    "# # nlp = spacy.load(\"ru_core_news_sm\",disable=['ner', 'parser'])\n",
    "# def cleaning(doc):\n",
    "#     txt = [token.lemma_ for token in doc if not token.is_stop]\n",
    "#     return ' '.join(txt)\n",
    "\n",
    "# brief_cleaning = [re.sub(\"[^A-Za-zА-Яа-я']+\", ' ', str(row)).lower() for row in videos['video_title']]\n"
   ]
  },
  {
   "cell_type": "code",
   "execution_count": 6,
   "id": "af5e0592-8ed1-46fc-a1d5-7a4441b58e43",
   "metadata": {},
   "outputs": [],
   "source": [
    "# from time import time\n",
    "# t = time()\n",
    "# txt = [cleaning(doc) for doc in tqdm(nlp.pipe(brief_cleaning, batch_size=5000,n_process=14))]\n",
    "\n",
    "# print(round((time() - t) / 60, 2))"
   ]
  },
  {
   "cell_type": "code",
   "execution_count": 7,
   "id": "491477e5-be64-4482-a2ad-e9558b23ae90",
   "metadata": {},
   "outputs": [
    {
     "name": "stdout",
     "output_type": "stream",
     "text": [
      " 0_data_analysis.ipynb\t       kozhin.ipynb   rutube.ipynb\n",
      " 0_data_analysis_video.ipynb   __MACOSX       sinonim.ipynb\n",
      " alekseenkko.ipynb\t       ranker.ipynb   txtAI.ipynb\n",
      " first_dataset_analyze.ipynb   rutube_case   'Untitled Folder'\n"
     ]
    }
   ],
   "source": [
    "!ls"
   ]
  },
  {
   "cell_type": "code",
   "execution_count": 8,
   "id": "0010356b-b296-451f-9a64-9374f801b79f",
   "metadata": {},
   "outputs": [
    {
     "name": "stdout",
     "output_type": "stream",
     "text": [
      "'~$Описание файлов кейса от Rutube.xlsx'\n",
      " automarkup_10k.parquet\n",
      " automarkup.csv\n",
      " automarkup.parquet\n",
      " baseline-Copy1.ipynb\n",
      " baseline_doc_.ipynb\n",
      " baseline.ipynb\n",
      " baseline_to_new_faiss_engene.ipynb\n",
      " candidates.index\n",
      " catboost_info\n",
      " chunk\n",
      " data.pkl\n",
      " faiss_train_and_index.ipynb\n",
      " features\n",
      " features.parquet\n",
      " full_df.csv\n",
      " generated_candidates.parquet\n",
      " ind2videoid.json\n",
      " __init.__py\n",
      " kaggle.json\n",
      " manualmarkup.csv\n",
      " markov.ipynb\n",
      " pandarallel1\n",
      " paral\n",
      " qvant_1M.index\n",
      " ranker.ckpt\n",
      " requirements.txt\n",
      " sample_submission.csv\n",
      " search_engine.ipynb\n",
      " videos.parquet\n",
      "'Описание файлов кейса от Rutube.xlsx'\n"
     ]
    }
   ],
   "source": [
    "!ls rutube_case/"
   ]
  },
  {
   "cell_type": "code",
   "execution_count": 9,
   "id": "8a2ec827-51a0-4757-8f80-61e9cbe82c88",
   "metadata": {},
   "outputs": [],
   "source": [
    "import os \n",
    "os.chdir('rutube_case')"
   ]
  },
  {
   "cell_type": "code",
   "execution_count": 10,
   "id": "70600c54-3631-46b8-9f06-c15c7ad20579",
   "metadata": {},
   "outputs": [],
   "source": [
    "videos = pl.read_parquet('videos.parquet')"
   ]
  },
  {
   "cell_type": "code",
   "execution_count": 12,
   "id": "b2509414-a934-4df5-8834-64a983dc9342",
   "metadata": {},
   "outputs": [
    {
     "data": {
      "text/plain": [
       "<polars.config.Config at 0x7fd23d2b6ed0>"
      ]
     },
     "execution_count": 12,
     "metadata": {},
     "output_type": "execute_result"
    }
   ],
   "source": [
    "pl.Config(fmt_str_lengths=3000, tbl_rows=100)"
   ]
  },
  {
   "cell_type": "code",
   "execution_count": 13,
   "id": "f3869e71-70fa-4d67-98ef-92347c4bd3e1",
   "metadata": {},
   "outputs": [
    {
     "data": {
      "text/html": [
       "<div><style>\n",
       ".dataframe > thead > tr > th,\n",
       ".dataframe > tbody > tr > td {\n",
       "  text-align: right;\n",
       "  white-space: pre-wrap;\n",
       "}\n",
       "</style>\n",
       "<small>shape: (5, 7)</small><table border=\"1\" class=\"dataframe\"><thead><tr><th>video_id</th><th>video_title</th><th>channel_title</th><th>v_channel_reg_datetime</th><th>v_channel_type</th><th>v_category</th><th>v_pub_datetime</th></tr><tr><td>str</td><td>str</td><td>str</td><td>datetime[ns, UTC]</td><td>str</td><td>str</td><td>datetime[ns, UTC]</td></tr></thead><tbody><tr><td>&quot;video_6484084&quot;</td><td>&quot;Palia. Рыбалка за час. От 3 до 12 000 голды!&quot;</td><td>&quot;Gamer Diary&quot;</td><td>2022-04-13 10:23:19 UTC</td><td>&quot;UGC&quot;</td><td>&quot;Видеоигры&quot;</td><td>2023-09-18 20:04:10 UTC</td></tr><tr><td>&quot;video_1522415&quot;</td><td>&quot;Прощание пройдет на чужбине...Нам будет не хватать Сенчуковой и Рыбина....&quot;</td><td>&quot;pntuser290&quot;</td><td>2022-09-05 09:32:50 UTC</td><td>&quot;UGC&quot;</td><td>&quot;Разное&quot;</td><td>2023-06-03 23:04:32 UTC</td></tr><tr><td>&quot;video_642363&quot;</td><td>&quot;#ДОБРОЛАП. ТВОРИМ ДОБРО ВМЕСТЕ!&quot;</td><td>&quot;Зоомагазин Четыре Лапы&quot;</td><td>2022-04-13 08:07:35 UTC</td><td>&quot;UGC&quot;</td><td>&quot;Лайфстайл&quot;</td><td>2022-04-15 14:18:15 UTC</td></tr><tr><td>&quot;video_10124356&quot;</td><td>&quot;8&quot;</td><td>&quot;МИЭТ&quot;</td><td>2022-02-04 07:36:49 UTC</td><td>&quot;ПрофКонтент&quot;</td><td>&quot;Образование&quot;</td><td>2017-09-16 11:15:08 UTC</td></tr><tr><td>&quot;video_16299346&quot;</td><td>&quot;Как обновить или переподключить аккаунт ВК в сервисе Best Liders&quot;</td><td>&quot;Руководство к Искусству&quot;</td><td>2023-09-01 16:00:41 UTC</td><td>&quot;UGC&quot;</td><td>&quot;Разное&quot;</td><td>2023-09-12 15:32:51 UTC</td></tr></tbody></table></div>"
      ],
      "text/plain": [
       "shape: (5, 7)\n",
       "┌──────────────┬─────────────┬─────────────┬─────────────┬─────────────┬─────────────┬─────────────┐\n",
       "│ video_id     ┆ video_title ┆ channel_tit ┆ v_channel_r ┆ v_channel_t ┆ v_category  ┆ v_pub_datet │\n",
       "│ ---          ┆ ---         ┆ le          ┆ eg_datetime ┆ ype         ┆ ---         ┆ ime         │\n",
       "│ str          ┆ str         ┆ ---         ┆ ---         ┆ ---         ┆ str         ┆ ---         │\n",
       "│              ┆             ┆ str         ┆ datetime[ns ┆ str         ┆             ┆ datetime[ns │\n",
       "│              ┆             ┆             ┆ , UTC]      ┆             ┆             ┆ , UTC]      │\n",
       "╞══════════════╪═════════════╪═════════════╪═════════════╪═════════════╪═════════════╪═════════════╡\n",
       "│ video_648408 ┆ Palia.      ┆ Gamer Diary ┆ 2022-04-13  ┆ UGC         ┆ Видеоигры   ┆ 2023-09-18  │\n",
       "│ 4            ┆ Рыбалка за  ┆             ┆ 10:23:19    ┆             ┆             ┆ 20:04:10    │\n",
       "│              ┆ час. От 3   ┆             ┆ UTC         ┆             ┆             ┆ UTC         │\n",
       "│              ┆ до 12 000   ┆             ┆             ┆             ┆             ┆             │\n",
       "│              ┆ голды!      ┆             ┆             ┆             ┆             ┆             │\n",
       "│ video_152241 ┆ Прощание    ┆ pntuser290  ┆ 2022-09-05  ┆ UGC         ┆ Разное      ┆ 2023-06-03  │\n",
       "│ 5            ┆ пройдет на  ┆             ┆ 09:32:50    ┆             ┆             ┆ 23:04:32    │\n",
       "│              ┆ чужбине...Н ┆             ┆ UTC         ┆             ┆             ┆ UTC         │\n",
       "│              ┆ ам будет не ┆             ┆             ┆             ┆             ┆             │\n",
       "│              ┆ хватать     ┆             ┆             ┆             ┆             ┆             │\n",
       "│              ┆ Сенчуковой  ┆             ┆             ┆             ┆             ┆             │\n",
       "│              ┆ и           ┆             ┆             ┆             ┆             ┆             │\n",
       "│              ┆ Рыбина....  ┆             ┆             ┆             ┆             ┆             │\n",
       "│ video_642363 ┆ #ДОБРОЛАП.  ┆ Зоомагазин  ┆ 2022-04-13  ┆ UGC         ┆ Лайфстайл   ┆ 2022-04-15  │\n",
       "│              ┆ ТВОРИМ      ┆ Четыре Лапы ┆ 08:07:35    ┆             ┆             ┆ 14:18:15    │\n",
       "│              ┆ ДОБРО       ┆             ┆ UTC         ┆             ┆             ┆ UTC         │\n",
       "│              ┆ ВМЕСТЕ!     ┆             ┆             ┆             ┆             ┆             │\n",
       "│ video_101243 ┆ 8           ┆ МИЭТ        ┆ 2022-02-04  ┆ ПрофКонтент ┆ Образование ┆ 2017-09-16  │\n",
       "│ 56           ┆             ┆             ┆ 07:36:49    ┆             ┆             ┆ 11:15:08    │\n",
       "│              ┆             ┆             ┆ UTC         ┆             ┆             ┆ UTC         │\n",
       "│ video_162993 ┆ Как         ┆ Руководство ┆ 2023-09-01  ┆ UGC         ┆ Разное      ┆ 2023-09-12  │\n",
       "│ 46           ┆ обновить    ┆ к Искусству ┆ 16:00:41    ┆             ┆             ┆ 15:32:51    │\n",
       "│              ┆ или перепод ┆             ┆ UTC         ┆             ┆             ┆ UTC         │\n",
       "│              ┆ ключить     ┆             ┆             ┆             ┆             ┆             │\n",
       "│              ┆ аккаунт ВК  ┆             ┆             ┆             ┆             ┆             │\n",
       "│              ┆ в сервисе   ┆             ┆             ┆             ┆             ┆             │\n",
       "│              ┆ Best Liders ┆             ┆             ┆             ┆             ┆             │\n",
       "└──────────────┴─────────────┴─────────────┴─────────────┴─────────────┴─────────────┴─────────────┘"
      ]
     },
     "execution_count": 13,
     "metadata": {},
     "output_type": "execute_result"
    }
   ],
   "source": [
    "videos.head(5)"
   ]
  },
  {
   "cell_type": "code",
   "execution_count": 14,
   "id": "62d7ee51-31dc-47c6-b778-4914dc6e0768",
   "metadata": {},
   "outputs": [
    {
     "data": {
      "text/plain": [
       "34404561"
      ]
     },
     "execution_count": 14,
     "metadata": {},
     "output_type": "execute_result"
    }
   ],
   "source": [
    "len(videos)"
   ]
  },
  {
   "cell_type": "code",
   "execution_count": 15,
   "id": "f6a1751f-f81e-4b84-b763-36a649766dbf",
   "metadata": {},
   "outputs": [
    {
     "data": {
      "text/html": [
       "<div><style>\n",
       ".dataframe > thead > tr > th,\n",
       ".dataframe > tbody > tr > td {\n",
       "  text-align: right;\n",
       "  white-space: pre-wrap;\n",
       "}\n",
       "</style>\n",
       "<small>shape: (6, 2)</small><table border=\"1\" class=\"dataframe\"><thead><tr><th>v_channel_type</th><th>counts</th></tr><tr><td>str</td><td>u32</td></tr></thead><tbody><tr><td>&quot;ТВ И СМИ&quot;</td><td>461228</td></tr><tr><td>&quot;Originals&quot;</td><td>2211</td></tr><tr><td>&quot;ПрофКонтент&quot;</td><td>352462</td></tr><tr><td>&quot;Редакция&quot;</td><td>59055</td></tr><tr><td>&quot;&quot;</td><td>446</td></tr><tr><td>&quot;UGC&quot;</td><td>33529159</td></tr></tbody></table></div>"
      ],
      "text/plain": [
       "shape: (6, 2)\n",
       "┌────────────────┬──────────┐\n",
       "│ v_channel_type ┆ counts   │\n",
       "│ ---            ┆ ---      │\n",
       "│ str            ┆ u32      │\n",
       "╞════════════════╪══════════╡\n",
       "│ ТВ И СМИ       ┆ 461228   │\n",
       "│ Originals      ┆ 2211     │\n",
       "│ ПрофКонтент    ┆ 352462   │\n",
       "│ Редакция       ┆ 59055    │\n",
       "│                ┆ 446      │\n",
       "│ UGC            ┆ 33529159 │\n",
       "└────────────────┴──────────┘"
      ]
     },
     "execution_count": 15,
     "metadata": {},
     "output_type": "execute_result"
    }
   ],
   "source": [
    "videos['v_channel_type'].value_counts()"
   ]
  },
  {
   "cell_type": "code",
   "execution_count": 16,
   "id": "cd6f1f31-77ea-494a-94b9-719f50f3c4e4",
   "metadata": {},
   "outputs": [
    {
     "data": {
      "text/html": [
       "<div><style>\n",
       ".dataframe > thead > tr > th,\n",
       ".dataframe > tbody > tr > td {\n",
       "  text-align: right;\n",
       "  white-space: pre-wrap;\n",
       "}\n",
       "</style>\n",
       "<small>shape: (10, 2)</small><table border=\"1\" class=\"dataframe\"><thead><tr><th>v_category</th><th>counts</th></tr><tr><td>str</td><td>u32</td></tr></thead><tbody><tr><td>&quot;Разное&quot;</td><td>25114889</td></tr><tr><td>&quot;Видеоигры&quot;</td><td>1245935</td></tr><tr><td>&quot;Музыка&quot;</td><td>825903</td></tr><tr><td>&quot;Лайфстайл&quot;</td><td>701042</td></tr><tr><td>&quot;Образование&quot;</td><td>509939</td></tr><tr><td>&quot;Развлечения&quot;</td><td>444167</td></tr><tr><td>&quot;Спорт&quot;</td><td>436328</td></tr><tr><td>&quot;Телепередачи&quot;</td><td>378196</td></tr><tr><td>&quot;Люди и блоги&quot;</td><td>360290</td></tr><tr><td>&quot;Авто-мото&quot;</td><td>307701</td></tr></tbody></table></div>"
      ],
      "text/plain": [
       "shape: (10, 2)\n",
       "┌──────────────┬──────────┐\n",
       "│ v_category   ┆ counts   │\n",
       "│ ---          ┆ ---      │\n",
       "│ str          ┆ u32      │\n",
       "╞══════════════╪══════════╡\n",
       "│ Разное       ┆ 25114889 │\n",
       "│ Видеоигры    ┆ 1245935  │\n",
       "│ Музыка       ┆ 825903   │\n",
       "│ Лайфстайл    ┆ 701042   │\n",
       "│ Образование  ┆ 509939   │\n",
       "│ Развлечения  ┆ 444167   │\n",
       "│ Спорт        ┆ 436328   │\n",
       "│ Телепередачи ┆ 378196   │\n",
       "│ Люди и блоги ┆ 360290   │\n",
       "│ Авто-мото    ┆ 307701   │\n",
       "└──────────────┴──────────┘"
      ]
     },
     "execution_count": 16,
     "metadata": {},
     "output_type": "execute_result"
    }
   ],
   "source": [
    "videos['v_category'].value_counts().sort(by='counts',descending=True, nulls_last=True).head(10)"
   ]
  },
  {
   "cell_type": "code",
   "execution_count": 26,
   "id": "c6aa3891-c804-475f-9fab-de3fd75c386e",
   "metadata": {},
   "outputs": [
    {
     "name": "stderr",
     "output_type": "stream",
     "text": [
      "/tmp/ipykernel_27570/1796100598.py:1: DeprecationWarning: `groupby` is deprecated. It has been renamed to `group_by`.\n",
      "  videos.groupby('v_channel_type','v_category').value_counts()\n"
     ]
    },
    {
     "ename": "AttributeError",
     "evalue": "'GroupBy' object has no attribute 'value_counts'",
     "output_type": "error",
     "traceback": [
      "\u001b[0;31m---------------------------------------------------------------------------\u001b[0m",
      "\u001b[0;31mAttributeError\u001b[0m                            Traceback (most recent call last)",
      "Cell \u001b[0;32mIn[26], line 1\u001b[0m\n\u001b[0;32m----> 1\u001b[0m \u001b[43mvideos\u001b[49m\u001b[38;5;241;43m.\u001b[39;49m\u001b[43mgroupby\u001b[49m\u001b[43m(\u001b[49m\u001b[38;5;124;43m'\u001b[39;49m\u001b[38;5;124;43mv_channel_type\u001b[39;49m\u001b[38;5;124;43m'\u001b[39;49m\u001b[43m,\u001b[49m\u001b[38;5;124;43m'\u001b[39;49m\u001b[38;5;124;43mv_category\u001b[39;49m\u001b[38;5;124;43m'\u001b[39;49m\u001b[43m)\u001b[49m\u001b[38;5;241;43m.\u001b[39;49m\u001b[43mvalue_counts\u001b[49m()\n",
      "\u001b[0;31mAttributeError\u001b[0m: 'GroupBy' object has no attribute 'value_counts'"
     ]
    }
   ],
   "source": [
    "videos.groupby('v_channel_type','v_category').value_counts()"
   ]
  },
  {
   "cell_type": "code",
   "execution_count": 17,
   "id": "43535934-de11-4814-98de-919a78bdaf62",
   "metadata": {},
   "outputs": [],
   "source": [
    "manualmarkup = pl.read_csv('manualmarkup.csv',try_parse_dates=True)"
   ]
  },
  {
   "cell_type": "code",
   "execution_count": 18,
   "id": "046dc4a3-e88b-44f2-accd-391799119f9c",
   "metadata": {},
   "outputs": [
    {
     "data": {
      "text/html": [
       "<div><style>\n",
       ".dataframe > thead > tr > th,\n",
       ".dataframe > tbody > tr > td {\n",
       "  text-align: right;\n",
       "  white-space: pre-wrap;\n",
       "}\n",
       "</style>\n",
       "<small>shape: (5, 4)</small><table border=\"1\" class=\"dataframe\"><thead><tr><th>query</th><th>video_id</th><th>query_date</th><th>sentiment</th></tr><tr><td>str</td><td>str</td><td>datetime[μs]</td><td>str</td></tr></thead><tbody><tr><td>&quot;эдисон&quot;</td><td>&quot;video_74232&quot;</td><td>2023-11-03 18:00:00</td><td>&quot;useful&quot;</td></tr><tr><td>&quot;модная команда..модная я. leilazakirovna&quot;</td><td>&quot;video_45&quot;</td><td>2023-11-03 18:00:00</td><td>&quot;uselessly&quot;</td></tr><tr><td>&quot;пираты карибского моря фильм&quot;</td><td>&quot;video_106361&quot;</td><td>2023-11-03 18:00:00</td><td>&quot;could_be_better&quot;</td></tr><tr><td>&quot;data science&quot;</td><td>&quot;video_291105&quot;</td><td>2023-11-03 18:00:00</td><td>&quot;useful&quot;</td></tr><tr><td>&quot;физикальное обследование &quot;</td><td>&quot;video_57&quot;</td><td>2023-11-03 18:00:00</td><td>&quot;uselessly&quot;</td></tr></tbody></table></div>"
      ],
      "text/plain": [
       "shape: (5, 4)\n",
       "┌──────────────────────────────────────────┬──────────────┬─────────────────────┬─────────────────┐\n",
       "│ query                                    ┆ video_id     ┆ query_date          ┆ sentiment       │\n",
       "│ ---                                      ┆ ---          ┆ ---                 ┆ ---             │\n",
       "│ str                                      ┆ str          ┆ datetime[μs]        ┆ str             │\n",
       "╞══════════════════════════════════════════╪══════════════╪═════════════════════╪═════════════════╡\n",
       "│ эдисон                                   ┆ video_74232  ┆ 2023-11-03 18:00:00 ┆ useful          │\n",
       "│ модная команда..модная я. leilazakirovna ┆ video_45     ┆ 2023-11-03 18:00:00 ┆ uselessly       │\n",
       "│ пираты карибского моря фильм             ┆ video_106361 ┆ 2023-11-03 18:00:00 ┆ could_be_better │\n",
       "│ data science                             ┆ video_291105 ┆ 2023-11-03 18:00:00 ┆ useful          │\n",
       "│ физикальное обследование                 ┆ video_57     ┆ 2023-11-03 18:00:00 ┆ uselessly       │\n",
       "└──────────────────────────────────────────┴──────────────┴─────────────────────┴─────────────────┘"
      ]
     },
     "execution_count": 18,
     "metadata": {},
     "output_type": "execute_result"
    }
   ],
   "source": [
    "manualmarkup.head(5)"
   ]
  },
  {
   "cell_type": "code",
   "execution_count": 20,
   "id": "9c086f42-4f52-447a-93fb-e0111b1a3b65",
   "metadata": {},
   "outputs": [
    {
     "data": {
      "text/plain": [
       "17240"
      ]
     },
     "execution_count": 20,
     "metadata": {},
     "output_type": "execute_result"
    }
   ],
   "source": [
    "len(manualmarkup)"
   ]
  },
  {
   "cell_type": "code",
   "execution_count": 19,
   "id": "c01c5fc4-2094-420e-b371-2351229271fe",
   "metadata": {},
   "outputs": [
    {
     "data": {
      "text/html": [
       "<div><style>\n",
       ".dataframe > thead > tr > th,\n",
       ".dataframe > tbody > tr > td {\n",
       "  text-align: right;\n",
       "  white-space: pre-wrap;\n",
       "}\n",
       "</style>\n",
       "<small>shape: (6, 2)</small><table border=\"1\" class=\"dataframe\"><thead><tr><th>sentiment</th><th>counts</th></tr><tr><td>str</td><td>u32</td></tr></thead><tbody><tr><td>&quot;сlickbait&quot;</td><td>827</td></tr><tr><td>&quot;uselessly&quot;</td><td>7819</td></tr><tr><td>null</td><td>4</td></tr><tr><td>&quot;exact&quot;</td><td>404</td></tr><tr><td>&quot;useful&quot;</td><td>4235</td></tr><tr><td>&quot;could_be_bette…</td><td>3951</td></tr></tbody></table></div>"
      ],
      "text/plain": [
       "shape: (6, 2)\n",
       "┌─────────────────┬────────┐\n",
       "│ sentiment       ┆ counts │\n",
       "│ ---             ┆ ---    │\n",
       "│ str             ┆ u32    │\n",
       "╞═════════════════╪════════╡\n",
       "│ сlickbait       ┆ 827    │\n",
       "│ uselessly       ┆ 7819   │\n",
       "│ null            ┆ 4      │\n",
       "│ exact           ┆ 404    │\n",
       "│ useful          ┆ 4235   │\n",
       "│ could_be_better ┆ 3951   │\n",
       "└─────────────────┴────────┘"
      ]
     },
     "execution_count": 19,
     "metadata": {},
     "output_type": "execute_result"
    }
   ],
   "source": [
    "manualmarkup['sentiment'].value_counts()"
   ]
  },
  {
   "cell_type": "code",
   "execution_count": 20,
   "id": "a0c1466a-6599-4fda-8d3d-d9607d7d4b68",
   "metadata": {},
   "outputs": [
    {
     "data": {
      "text/plain": [
       "990"
      ]
     },
     "execution_count": 20,
     "metadata": {},
     "output_type": "execute_result"
    }
   ],
   "source": [
    "len(manualmarkup.select('query').unique())"
   ]
  },
  {
   "cell_type": "code",
   "execution_count": 21,
   "id": "d92c514b-edbd-4878-bcfe-5f1eb765066d",
   "metadata": {},
   "outputs": [
    {
     "data": {
      "text/html": [
       "<div><style>\n",
       ".dataframe > thead > tr > th,\n",
       ".dataframe > tbody > tr > td {\n",
       "  text-align: right;\n",
       "  white-space: pre-wrap;\n",
       "}\n",
       "</style>\n",
       "<small>shape: (990, 2)</small><table border=\"1\" class=\"dataframe\"><thead><tr><th>query</th><th>video_id</th></tr><tr><td>str</td><td>u32</td></tr></thead><tbody><tr><td>&quot;garrys mod&quot;</td><td>32</td></tr><tr><td>&quot;hype realiti&quot;</td><td>32</td></tr><tr><td>&quot;сердце клавы 1…</td><td>32</td></tr><tr><td>&quot;пацанки 7 сезо…</td><td>31</td></tr><tr><td>&quot;модная команда…</td><td>31</td></tr><tr><td>&quot;битва сильнейш…</td><td>30</td></tr><tr><td>&quot;лего&quot;</td><td>30</td></tr><tr><td>&quot;скетч-шоу vell…</td><td>30</td></tr><tr><td>&quot;пушман&quot;</td><td>30</td></tr><tr><td>&quot;два холма 1 13…</td><td>30</td></tr><tr><td>&quot;мужское и женс…</td><td>29</td></tr><tr><td>&quot;papasha_live с…</td><td>29</td></tr><tr><td>&hellip;</td><td>&hellip;</td></tr><tr><td>&quot;Range Rover PH…</td><td>1</td></tr><tr><td>&quot;Интервью ректо…</td><td>1</td></tr><tr><td>&quot;битва экстасен…</td><td>1</td></tr><tr><td>&quot;сериал пес 6 с…</td><td>1</td></tr><tr><td>&quot;анафриено&quot;</td><td>1</td></tr><tr><td>&quot;thebraindit&quot;</td><td>1</td></tr><tr><td>&quot;импровизация 4…</td><td>1</td></tr><tr><td>&quot;подоляка сводк…</td><td>1</td></tr><tr><td>&quot;беременна в 16…</td><td>1</td></tr><tr><td>&quot;новости&quot;</td><td>1</td></tr><tr><td>&quot;тот самый мент…</td><td>1</td></tr><tr><td>&quot;время покажет.…</td><td>1</td></tr></tbody></table></div>"
      ],
      "text/plain": [
       "shape: (990, 2)\n",
       "┌───────────────────────────────────┬──────────┐\n",
       "│ query                             ┆ video_id │\n",
       "│ ---                               ┆ ---      │\n",
       "│ str                               ┆ u32      │\n",
       "╞═══════════════════════════════════╪══════════╡\n",
       "│ garrys mod                        ┆ 32       │\n",
       "│ hype realiti                      ┆ 32       │\n",
       "│ сердце клавы 1 сезон 3 серия      ┆ 32       │\n",
       "│ пацанки 7 сезон                   ┆ 31       │\n",
       "│ …                                 ┆ …        │\n",
       "│ беременна в 16 7 сезон первый вы… ┆ 1        │\n",
       "│ новости                           ┆ 1        │\n",
       "│ тот самый мент                    ┆ 1        │\n",
       "│ время покажет. часть 3. выпуск о… ┆ 1        │\n",
       "└───────────────────────────────────┴──────────┘"
      ]
     },
     "execution_count": 21,
     "metadata": {},
     "output_type": "execute_result"
    }
   ],
   "source": [
    "manualmarkup.group_by('query').agg(pl.col('video_id').count()).sort(by='video_id',descending=True, nulls_last=True)"
   ]
  },
  {
   "cell_type": "code",
   "execution_count": 22,
   "id": "467ed8d2-3830-4920-ae4e-302058f63770",
   "metadata": {},
   "outputs": [
    {
     "data": {
      "text/html": [
       "<div><style>\n",
       ".dataframe > thead > tr > th,\n",
       ".dataframe > tbody > tr > td {\n",
       "  text-align: right;\n",
       "  white-space: pre-wrap;\n",
       "}\n",
       "</style>\n",
       "<small>shape: (952, 2)</small><table border=\"1\" class=\"dataframe\"><thead><tr><th>query</th><th>video_id</th></tr><tr><td>str</td><td>u32</td></tr></thead><tbody><tr><td>&quot;hype realiti&quot;</td><td>32</td></tr><tr><td>&quot;garrys mod&quot;</td><td>32</td></tr><tr><td>&quot;сердце клавы 1…</td><td>32</td></tr><tr><td>&quot;пацанки 7 сезо…</td><td>31</td></tr><tr><td>&quot;модная команда…</td><td>31</td></tr><tr><td>&quot;скетч-шоу vell…</td><td>30</td></tr><tr><td>&quot;битва сильнейш…</td><td>30</td></tr><tr><td>&quot;пушман&quot;</td><td>30</td></tr><tr><td>&quot;лего&quot;</td><td>30</td></tr><tr><td>&quot;два холма 1 13…</td><td>30</td></tr><tr><td>&quot;мужское женско…</td><td>29</td></tr><tr><td>&quot;выжить в дубае…</td><td>29</td></tr><tr><td>&hellip;</td><td>&hellip;</td></tr><tr><td>&quot;изолента live&quot;</td><td>5</td></tr><tr><td>&quot;за палпаыча&quot;</td><td>5</td></tr><tr><td>&quot;vyjit v dubae&quot;</td><td>5</td></tr><tr><td>&quot;киссинджер&quot;</td><td>4</td></tr><tr><td>&quot;дмитрий никоти…</td><td>4</td></tr><tr><td>&quot;новости с фрон…</td><td>4</td></tr><tr><td>&quot;нездобин&quot;</td><td>4</td></tr><tr><td>&quot;кстати&quot;</td><td>4</td></tr><tr><td>&quot;бедкомедиан&quot;</td><td>4</td></tr><tr><td>&quot;подоляка юрий&quot;</td><td>4</td></tr><tr><td>&quot;мaтч тв&quot;</td><td>4</td></tr><tr><td>&quot;александр семч…</td><td>4</td></tr></tbody></table></div>"
      ],
      "text/plain": [
       "shape: (952, 2)\n",
       "┌──────────────────────────────┬──────────┐\n",
       "│ query                        ┆ video_id │\n",
       "│ ---                          ┆ ---      │\n",
       "│ str                          ┆ u32      │\n",
       "╞══════════════════════════════╪══════════╡\n",
       "│ hype realiti                 ┆ 32       │\n",
       "│ garrys mod                   ┆ 32       │\n",
       "│ сердце клавы 1 сезон 3 серия ┆ 32       │\n",
       "│ пацанки 7 сезон              ┆ 31       │\n",
       "│ …                            ┆ …        │\n",
       "│ бедкомедиан                  ┆ 4        │\n",
       "│ подоляка юрий                ┆ 4        │\n",
       "│ мaтч тв                      ┆ 4        │\n",
       "│ александр семченко           ┆ 4        │\n",
       "└──────────────────────────────┴──────────┘"
      ]
     },
     "execution_count": 22,
     "metadata": {},
     "output_type": "execute_result"
    }
   ],
   "source": [
    "manualmarkup.group_by('query').agg(pl.col('video_id').count()).sort(by='video_id',descending=True, nulls_last=True).filter(pl.col('video_id')>3)"
   ]
  },
  {
   "cell_type": "markdown",
   "id": "8dc2b570-cc90-42d9-9dde-bfe797616b77",
   "metadata": {},
   "source": [
    "# features"
   ]
  },
  {
   "cell_type": "code",
   "execution_count": null,
   "id": "468fb49f-78e9-4632-9149-1be4aeebc06a",
   "metadata": {},
   "outputs": [],
   "source": [
    "features = pl.read_parquet('features.parquet')"
   ]
  },
  {
   "cell_type": "code",
   "execution_count": 55,
   "id": "79dd28ca-b79a-48ab-8fd7-c13200604bf7",
   "metadata": {},
   "outputs": [
    {
     "data": {
      "text/plain": [
       "65452587"
      ]
     },
     "execution_count": 55,
     "metadata": {},
     "output_type": "execute_result"
    }
   ],
   "source": [
    "len(features)"
   ]
  },
  {
   "cell_type": "code",
   "execution_count": 24,
   "id": "7da17826-24cb-42ee-b330-e8e1adb93022",
   "metadata": {},
   "outputs": [
    {
     "data": {
      "text/html": [
       "<div><style>\n",
       ".dataframe > thead > tr > th,\n",
       ".dataframe > tbody > tr > td {\n",
       "  text-align: right;\n",
       "  white-space: pre-wrap;\n",
       "}\n",
       "</style>\n",
       "<small>shape: (5, 29)</small><table border=\"1\" class=\"dataframe\"><thead><tr><th>video_id</th><th>report_date</th><th>v_channel_reg_datetime</th><th>v_channel_type</th><th>v_category</th><th>v_pub_datetime</th><th>total_comments</th><th>v_year_views</th><th>v_month_views</th><th>v_week_views</th><th>v_day_views</th><th>v_likes</th><th>v_dislikes</th><th>v_duration</th><th>v_cr_click_like_7_days</th><th>v_cr_click_dislike_7_days</th><th>v_cr_click_vtop_7_days</th><th>v_cr_click_long_view_7_days</th><th>v_cr_click_comment_7_days</th><th>v_cr_click_like_30_days</th><th>v_cr_click_dislike_30_days</th><th>v_cr_click_vtop_30_days</th><th>v_cr_click_long_view_30_days</th><th>v_cr_click_comment_30_days</th><th>v_cr_click_like_1_days</th><th>v_cr_click_dislike_1_days</th><th>v_cr_click_vtop_1_days</th><th>v_cr_click_long_view_1_days</th><th>v_cr_click_comment_1_days</th></tr><tr><td>str</td><td>str</td><td>str</td><td>str</td><td>str</td><td>str</td><td>i64</td><td>i64</td><td>i64</td><td>i64</td><td>i64</td><td>i64</td><td>i64</td><td>i64</td><td>f64</td><td>f64</td><td>f64</td><td>f64</td><td>f64</td><td>f64</td><td>f64</td><td>f64</td><td>f64</td><td>f64</td><td>f64</td><td>f64</td><td>f64</td><td>f64</td><td>f64</td></tr></thead><tbody><tr><td>&quot;video_1240127&quot;</td><td>&quot;2023-05-02&quot;</td><td>&quot;2017-02-28 01:…</td><td>&quot;UGC&quot;</td><td>&quot;Путешествия&quot;</td><td>&quot;2017-02-28 01:…</td><td>0</td><td>0</td><td>0</td><td>0</td><td>0</td><td>0</td><td>0</td><td>283806</td><td>0.0</td><td>0.0</td><td>0.0</td><td>0.0</td><td>0.0</td><td>0.0</td><td>0.0</td><td>0.0</td><td>0.0</td><td>0.0</td><td>0.0</td><td>0.0</td><td>0.0</td><td>0.0</td><td>0.0</td></tr><tr><td>&quot;video_3266704&quot;</td><td>&quot;2023-05-02&quot;</td><td>&quot;2022-03-26 20:…</td><td>&quot;UGC&quot;</td><td>&quot;Видеоигры&quot;</td><td>&quot;2022-05-24 12:…</td><td>0</td><td>1</td><td>0</td><td>0</td><td>0</td><td>0</td><td>0</td><td>7242119</td><td>0.0</td><td>0.0</td><td>0.0</td><td>0.0</td><td>0.0</td><td>0.0</td><td>0.0</td><td>0.0</td><td>0.0</td><td>0.0</td><td>0.0</td><td>0.0</td><td>0.0</td><td>0.0</td><td>0.0</td></tr><tr><td>&quot;video_26852455…</td><td>&quot;2023-05-02&quot;</td><td>&quot;2022-03-04 15:…</td><td>&quot;UGC&quot;</td><td>&quot;Техника и обор…</td><td>&quot;2022-07-06 13:…</td><td>0</td><td>6</td><td>1</td><td>0</td><td>0</td><td>0</td><td>0</td><td>208516</td><td>0.0</td><td>0.0</td><td>0.0</td><td>0.0</td><td>0.0</td><td>0.0</td><td>0.0</td><td>0.0</td><td>1.0</td><td>0.0</td><td>0.0</td><td>0.0</td><td>0.0</td><td>0.0</td><td>0.0</td></tr><tr><td>&quot;video_14041310…</td><td>&quot;2023-05-02&quot;</td><td>&quot;2023-01-28 15:…</td><td>&quot;UGC&quot;</td><td>&quot;Видеоигры&quot;</td><td>&quot;2023-02-02 10:…</td><td>0</td><td>6</td><td>0</td><td>0</td><td>0</td><td>0</td><td>0</td><td>282934</td><td>0.0</td><td>0.0</td><td>0.0</td><td>0.0</td><td>0.0</td><td>0.0</td><td>0.0</td><td>0.0</td><td>0.0</td><td>0.0</td><td>0.0</td><td>0.0</td><td>0.0</td><td>0.0</td><td>0.0</td></tr><tr><td>&quot;video_6944943&quot;</td><td>&quot;2023-05-02&quot;</td><td>&quot;2019-06-18 14:…</td><td>&quot;UGC&quot;</td><td>&quot;Спорт&quot;</td><td>&quot;2019-08-06 08:…</td><td>0</td><td>0</td><td>0</td><td>0</td><td>0</td><td>0</td><td>0</td><td>335040</td><td>0.0</td><td>0.0</td><td>0.0</td><td>0.0</td><td>0.0</td><td>0.0</td><td>0.0</td><td>0.0</td><td>0.0</td><td>0.0</td><td>0.0</td><td>0.0</td><td>0.0</td><td>0.0</td><td>0.0</td></tr></tbody></table></div>"
      ],
      "text/plain": [
       "shape: (5, 29)\n",
       "┌───────────┬───────────┬───────────┬───────────┬───┬───────────┬───────────┬───────────┬──────────┐\n",
       "│ video_id  ┆ report_da ┆ v_channel ┆ v_channel ┆ … ┆ v_cr_clic ┆ v_cr_clic ┆ v_cr_clic ┆ v_cr_cli │\n",
       "│ ---       ┆ te        ┆ _reg_date ┆ _type     ┆   ┆ k_dislike ┆ k_vtop_1_ ┆ k_long_vi ┆ ck_comme │\n",
       "│ str       ┆ ---       ┆ time      ┆ ---       ┆   ┆ _1_days   ┆ days      ┆ ew_1_days ┆ nt_1_day │\n",
       "│           ┆ str       ┆ ---       ┆ str       ┆   ┆ ---       ┆ ---       ┆ ---       ┆ s        │\n",
       "│           ┆           ┆ str       ┆           ┆   ┆ f64       ┆ f64       ┆ f64       ┆ ---      │\n",
       "│           ┆           ┆           ┆           ┆   ┆           ┆           ┆           ┆ f64      │\n",
       "╞═══════════╪═══════════╪═══════════╪═══════════╪═══╪═══════════╪═══════════╪═══════════╪══════════╡\n",
       "│ video_124 ┆ 2023-05-0 ┆ 2017-02-2 ┆ UGC       ┆ … ┆ 0.0       ┆ 0.0       ┆ 0.0       ┆ 0.0      │\n",
       "│ 0127      ┆ 2         ┆ 8         ┆           ┆   ┆           ┆           ┆           ┆          │\n",
       "│           ┆           ┆ 01:05:54  ┆           ┆   ┆           ┆           ┆           ┆          │\n",
       "│ video_326 ┆ 2023-05-0 ┆ 2022-03-2 ┆ UGC       ┆ … ┆ 0.0       ┆ 0.0       ┆ 0.0       ┆ 0.0      │\n",
       "│ 6704      ┆ 2         ┆ 6         ┆           ┆   ┆           ┆           ┆           ┆          │\n",
       "│           ┆           ┆ 20:27:19  ┆           ┆   ┆           ┆           ┆           ┆          │\n",
       "│ video_268 ┆ 2023-05-0 ┆ 2022-03-0 ┆ UGC       ┆ … ┆ 0.0       ┆ 0.0       ┆ 0.0       ┆ 0.0      │\n",
       "│ 52455     ┆ 2         ┆ 4         ┆           ┆   ┆           ┆           ┆           ┆          │\n",
       "│           ┆           ┆ 15:58:52  ┆           ┆   ┆           ┆           ┆           ┆          │\n",
       "│ video_140 ┆ 2023-05-0 ┆ 2023-01-2 ┆ UGC       ┆ … ┆ 0.0       ┆ 0.0       ┆ 0.0       ┆ 0.0      │\n",
       "│ 41310     ┆ 2         ┆ 8         ┆           ┆   ┆           ┆           ┆           ┆          │\n",
       "│           ┆           ┆ 15:31:45  ┆           ┆   ┆           ┆           ┆           ┆          │\n",
       "│ video_694 ┆ 2023-05-0 ┆ 2019-06-1 ┆ UGC       ┆ … ┆ 0.0       ┆ 0.0       ┆ 0.0       ┆ 0.0      │\n",
       "│ 4943      ┆ 2         ┆ 8         ┆           ┆   ┆           ┆           ┆           ┆          │\n",
       "│           ┆           ┆ 14:07:51  ┆           ┆   ┆           ┆           ┆           ┆          │\n",
       "└───────────┴───────────┴───────────┴───────────┴───┴───────────┴───────────┴───────────┴──────────┘"
      ]
     },
     "execution_count": 24,
     "metadata": {},
     "output_type": "execute_result"
    }
   ],
   "source": [
    "features.head()"
   ]
  },
  {
   "cell_type": "markdown",
   "id": "228664b3-8858-4b70-ad9c-b5eae2cf5b1b",
   "metadata": {},
   "source": [
    "# sample_submission"
   ]
  },
  {
   "cell_type": "code",
   "execution_count": 25,
   "id": "f44b32c3-44f0-4b6a-a734-cf815709693e",
   "metadata": {},
   "outputs": [],
   "source": [
    "sub = pl.read_csv('sample_submission.csv')"
   ]
  },
  {
   "cell_type": "code",
   "execution_count": 26,
   "id": "47d23a50-9f14-4ef3-a37c-e180c423c1f7",
   "metadata": {},
   "outputs": [
    {
     "data": {
      "text/html": [
       "<div><style>\n",
       ".dataframe > thead > tr > th,\n",
       ".dataframe > tbody > tr > td {\n",
       "  text-align: right;\n",
       "  white-space: pre-wrap;\n",
       "}\n",
       "</style>\n",
       "<small>shape: (5, 2)</small><table border=\"1\" class=\"dataframe\"><thead><tr><th>query</th><th>video_id</th></tr><tr><td>str</td><td>str</td></tr></thead><tbody><tr><td>&quot;query_0&quot;</td><td>&quot;video_0&quot;</td></tr><tr><td>&quot;query_0&quot;</td><td>&quot;video_1&quot;</td></tr><tr><td>&quot;query_0&quot;</td><td>&quot;video_2&quot;</td></tr><tr><td>&quot;query_0&quot;</td><td>&quot;video_3&quot;</td></tr><tr><td>&quot;query_0&quot;</td><td>&quot;video_4&quot;</td></tr></tbody></table></div>"
      ],
      "text/plain": [
       "shape: (5, 2)\n",
       "┌─────────┬──────────┐\n",
       "│ query   ┆ video_id │\n",
       "│ ---     ┆ ---      │\n",
       "│ str     ┆ str      │\n",
       "╞═════════╪══════════╡\n",
       "│ query_0 ┆ video_0  │\n",
       "│ query_0 ┆ video_1  │\n",
       "│ query_0 ┆ video_2  │\n",
       "│ query_0 ┆ video_3  │\n",
       "│ query_0 ┆ video_4  │\n",
       "└─────────┴──────────┘"
      ]
     },
     "execution_count": 26,
     "metadata": {},
     "output_type": "execute_result"
    }
   ],
   "source": [
    "sub.head(5)"
   ]
  },
  {
   "cell_type": "markdown",
   "id": "786064ca-62ba-4f26-97dd-2dbe49c8fc76",
   "metadata": {},
   "source": [
    "# automarkup\n",
    "Файл с кликами пользователя - каждая строка это пара query (запрос пользователя) и video_id (видео куда он кликнул по этому запросу), также представлены другие взаимодействия с видео"
   ]
  },
  {
   "cell_type": "code",
   "execution_count": 27,
   "id": "14a4ca24-b85b-40cb-83d1-1222e44d03d0",
   "metadata": {},
   "outputs": [],
   "source": [
    "automarkup = pl.read_parquet('automarkup.parquet')"
   ]
  },
  {
   "cell_type": "code",
   "execution_count": 28,
   "id": "2c7874b0-8dc3-4671-9bbd-70d20c47cb6d",
   "metadata": {},
   "outputs": [
    {
     "data": {
      "text/plain": [
       "6234424"
      ]
     },
     "execution_count": 28,
     "metadata": {},
     "output_type": "execute_result"
    }
   ],
   "source": [
    "len(automarkup)"
   ]
  },
  {
   "cell_type": "code",
   "execution_count": 36,
   "id": "64b195f8-f68f-4136-9ecd-b631d8bedd65",
   "metadata": {},
   "outputs": [
    {
     "data": {
      "text/html": [
       "<div><style>\n",
       ".dataframe > thead > tr > th,\n",
       ".dataframe > tbody > tr > td {\n",
       "  text-align: right;\n",
       "  white-space: pre-wrap;\n",
       "}\n",
       "</style>\n",
       "<small>shape: (1, 1)</small><table border=\"1\" class=\"dataframe\"><thead><tr><th>datetime</th></tr><tr><td>str</td></tr></thead><tbody><tr><td>&quot;2023-05-03 00:…</td></tr></tbody></table></div>"
      ],
      "text/plain": [
       "shape: (1, 1)\n",
       "┌───────────────────────────┐\n",
       "│ datetime                  │\n",
       "│ ---                       │\n",
       "│ str                       │\n",
       "╞═══════════════════════════╡\n",
       "│ 2023-05-03 00:00:01+03:00 │\n",
       "└───────────────────────────┘"
      ]
     },
     "execution_count": 36,
     "metadata": {},
     "output_type": "execute_result"
    }
   ],
   "source": [
    "automarkup.select('datetime').min()"
   ]
  },
  {
   "cell_type": "code",
   "execution_count": 29,
   "id": "794d2460-7f8c-4463-a29b-77aeeeff2aa3",
   "metadata": {},
   "outputs": [
    {
     "data": {
      "text/plain": [
       "412550"
      ]
     },
     "execution_count": 29,
     "metadata": {},
     "output_type": "execute_result"
    }
   ],
   "source": [
    "len(automarkup.select('video_id').unique())"
   ]
  },
  {
   "cell_type": "code",
   "execution_count": 29,
   "id": "c8cc9e77-c378-49aa-aaba-2fe9dfdb30c6",
   "metadata": {},
   "outputs": [
    {
     "data": {
      "text/html": [
       "<div><style>\n",
       ".dataframe > thead > tr > th,\n",
       ".dataframe > tbody > tr > td {\n",
       "  text-align: right;\n",
       "  white-space: pre-wrap;\n",
       "}\n",
       "</style>\n",
       "<small>shape: (5, 13)</small><table border=\"1\" class=\"dataframe\"><thead><tr><th>is_authorized</th><th>datetime</th><th>query</th><th>video_id</th><th>duration</th><th>position</th><th>watchtime</th><th>emotion</th><th>vtop</th><th>comment</th><th>channel</th><th>tv_show</th><th>season</th></tr><tr><td>bool</td><td>str</td><td>str</td><td>str</td><td>i64</td><td>f64</td><td>i64</td><td>i64</td><td>bool</td><td>i64</td><td>str</td><td>str</td><td>str</td></tr></thead><tbody><tr><td>false</td><td>&quot;2023-07-03 14:…</td><td>&quot;приют комедиан…</td><td>&quot;video_3049590&quot;</td><td>2279019</td><td>8.0</td><td>0</td><td>0</td><td>null</td><td>0</td><td>&quot;ТЕЛЕКАНАЛ ЗВЕЗ…</td><td>&quot;Десять мгновен…</td><td>&quot;Сезон&quot;</td></tr><tr><td>false</td><td>&quot;2023-07-20 04:…</td><td>&quot;бабаян роман&quot;</td><td>&quot;video_3049590&quot;</td><td>2279019</td><td>1.0</td><td>0</td><td>0</td><td>null</td><td>0</td><td>&quot;ТЕЛЕКАНАЛ ЗВЕЗ…</td><td>&quot;Десять мгновен…</td><td>&quot;Сезон&quot;</td></tr><tr><td>true</td><td>&quot;2023-08-10 17:…</td><td>&quot;роман бабаян&quot;</td><td>&quot;video_3049590&quot;</td><td>2279019</td><td>1.0</td><td>102</td><td>0</td><td>null</td><td>0</td><td>&quot;ТЕЛЕКАНАЛ ЗВЕЗ…</td><td>&quot;Десять мгновен…</td><td>&quot;Сезон&quot;</td></tr><tr><td>false</td><td>&quot;2023-07-03 17:…</td><td>&quot;битва экстрасе…</td><td>&quot;video_31592942…</td><td>4259447</td><td>45.0</td><td>3601</td><td>0</td><td>null</td><td>0</td><td>&quot;Экстрасенсы. Б…</td><td>&quot;Экстрасенсы. Б…</td><td>null</td></tr><tr><td>false</td><td>&quot;2023-07-03 15:…</td><td>&quot;битва сильнейш…</td><td>&quot;video_31592942…</td><td>4259447</td><td>4.0</td><td>4054</td><td>0</td><td>null</td><td>0</td><td>&quot;Экстрасенсы. Б…</td><td>&quot;Экстрасенсы. Б…</td><td>null</td></tr></tbody></table></div>"
      ],
      "text/plain": [
       "shape: (5, 13)\n",
       "┌────────────┬────────────┬────────────┬────────────┬───┬─────────┬───────────┬───────────┬────────┐\n",
       "│ is_authori ┆ datetime   ┆ query      ┆ video_id   ┆ … ┆ comment ┆ channel   ┆ tv_show   ┆ season │\n",
       "│ zed        ┆ ---        ┆ ---        ┆ ---        ┆   ┆ ---     ┆ ---       ┆ ---       ┆ ---    │\n",
       "│ ---        ┆ str        ┆ str        ┆ str        ┆   ┆ i64     ┆ str       ┆ str       ┆ str    │\n",
       "│ bool       ┆            ┆            ┆            ┆   ┆         ┆           ┆           ┆        │\n",
       "╞════════════╪════════════╪════════════╪════════════╪═══╪═════════╪═══════════╪═══════════╪════════╡\n",
       "│ false      ┆ 2023-07-03 ┆ приют коме ┆ video_3049 ┆ … ┆ 0       ┆ ТЕЛЕКАНАЛ ┆ Десять    ┆ Сезон  │\n",
       "│            ┆ 14:29:34+0 ┆ диантов    ┆ 590        ┆   ┆         ┆ ЗВЕЗДА    ┆ мгновений ┆        │\n",
       "│            ┆ 3:00       ┆ роман      ┆            ┆   ┆         ┆           ┆           ┆        │\n",
       "│            ┆            ┆ бабаян     ┆            ┆   ┆         ┆           ┆           ┆        │\n",
       "│ false      ┆ 2023-07-20 ┆ бабаян     ┆ video_3049 ┆ … ┆ 0       ┆ ТЕЛЕКАНАЛ ┆ Десять    ┆ Сезон  │\n",
       "│            ┆ 04:39:07+0 ┆ роман      ┆ 590        ┆   ┆         ┆ ЗВЕЗДА    ┆ мгновений ┆        │\n",
       "│            ┆ 3:00       ┆            ┆            ┆   ┆         ┆           ┆           ┆        │\n",
       "│ true       ┆ 2023-08-10 ┆ роман      ┆ video_3049 ┆ … ┆ 0       ┆ ТЕЛЕКАНАЛ ┆ Десять    ┆ Сезон  │\n",
       "│            ┆ 17:39:06+0 ┆ бабаян     ┆ 590        ┆   ┆         ┆ ЗВЕЗДА    ┆ мгновений ┆        │\n",
       "│            ┆ 3:00       ┆            ┆            ┆   ┆         ┆           ┆           ┆        │\n",
       "│ false      ┆ 2023-07-03 ┆ битва экст ┆ video_3159 ┆ … ┆ 0       ┆ Экстрасен ┆ Экстрасен ┆ null   │\n",
       "│            ┆ 17:09:31+0 ┆ расенсов   ┆ 2942       ┆   ┆         ┆ сы. Битва ┆ сы. Битва ┆        │\n",
       "│            ┆ 3:00       ┆ 2019 год   ┆            ┆   ┆         ┆ сильнейши ┆ сильнейши ┆        │\n",
       "│            ┆            ┆            ┆            ┆   ┆         ┆ х         ┆ х         ┆        │\n",
       "│ false      ┆ 2023-07-03 ┆ битва      ┆ video_3159 ┆ … ┆ 0       ┆ Экстрасен ┆ Экстрасен ┆ null   │\n",
       "│            ┆ 15:13:37+0 ┆ сильнейших ┆ 2942       ┆   ┆         ┆ сы. Битва ┆ сы. Битва ┆        │\n",
       "│            ┆ 3:00       ┆ 2 сезон    ┆            ┆   ┆         ┆ сильнейши ┆ сильнейши ┆        │\n",
       "│            ┆            ┆            ┆            ┆   ┆         ┆ х         ┆ х         ┆        │\n",
       "└────────────┴────────────┴────────────┴────────────┴───┴─────────┴───────────┴───────────┴────────┘"
      ]
     },
     "execution_count": 29,
     "metadata": {},
     "output_type": "execute_result"
    }
   ],
   "source": [
    "automarkup.head(5)"
   ]
  },
  {
   "cell_type": "code",
   "execution_count": 62,
   "id": "f161f2c7-4b3a-47b4-82dc-f79bfd047b3d",
   "metadata": {},
   "outputs": [
    {
     "data": {
      "text/html": [
       "<div><style>\n",
       ".dataframe > thead > tr > th,\n",
       ".dataframe > tbody > tr > td {\n",
       "  text-align: right;\n",
       "  white-space: pre-wrap;\n",
       "}\n",
       "</style>\n",
       "<small>shape: (13, 2)</small><table border=\"1\" class=\"dataframe\"><thead><tr><th>emotion</th><th>counts</th></tr><tr><td>i64</td><td>u32</td></tr></thead><tbody><tr><td>8</td><td>44</td></tr><tr><td>4</td><td>566</td></tr><tr><td>12</td><td>38</td></tr><tr><td>5</td><td>418</td></tr><tr><td>7</td><td>287</td></tr><tr><td>6</td><td>1981</td></tr><tr><td>3</td><td>991</td></tr><tr><td>2</td><td>3618</td></tr><tr><td>10</td><td>14</td></tr><tr><td>1</td><td>10160</td></tr><tr><td>0</td><td>6216211</td></tr><tr><td>9</td><td>49</td></tr><tr><td>11</td><td>47</td></tr></tbody></table></div>"
      ],
      "text/plain": [
       "shape: (13, 2)\n",
       "┌─────────┬─────────┐\n",
       "│ emotion ┆ counts  │\n",
       "│ ---     ┆ ---     │\n",
       "│ i64     ┆ u32     │\n",
       "╞═════════╪═════════╡\n",
       "│ 8       ┆ 44      │\n",
       "│ 4       ┆ 566     │\n",
       "│ 12      ┆ 38      │\n",
       "│ 5       ┆ 418     │\n",
       "│ …       ┆ …       │\n",
       "│ 1       ┆ 10160   │\n",
       "│ 0       ┆ 6216211 │\n",
       "│ 9       ┆ 49      │\n",
       "│ 11      ┆ 47      │\n",
       "└─────────┴─────────┘"
      ]
     },
     "execution_count": 62,
     "metadata": {},
     "output_type": "execute_result"
    }
   ],
   "source": [
    "automarkup['emotion'].value_counts()"
   ]
  },
  {
   "cell_type": "code",
   "execution_count": 63,
   "id": "9362cd49-f4cb-4d4f-96d4-4ca0c5903ddf",
   "metadata": {},
   "outputs": [
    {
     "data": {
      "text/html": [
       "<div><style>\n",
       ".dataframe > thead > tr > th,\n",
       ".dataframe > tbody > tr > td {\n",
       "  text-align: right;\n",
       "  white-space: pre-wrap;\n",
       "}\n",
       "</style>\n",
       "<small>shape: (47, 2)</small><table border=\"1\" class=\"dataframe\"><thead><tr><th>season</th><th>counts</th></tr><tr><td>str</td><td>u32</td></tr></thead><tbody><tr><td>&quot;ШЕРЛОК ХОЛМС (…</td><td>179</td></tr><tr><td>&quot;ДОМ 2 Реальная…</td><td>9</td></tr><tr><td>&quot;Бородина проти…</td><td>6</td></tr><tr><td>&quot;Сезон 11&quot;</td><td>1219</td></tr><tr><td>&quot;Сезон 21&quot;</td><td>145</td></tr><tr><td>&quot;Сезон 2&quot;</td><td>7158</td></tr><tr><td>&quot;ДОМ-2: Город л…</td><td>1</td></tr><tr><td>&quot;Сезон 5&quot;</td><td>13575</td></tr><tr><td>&quot;0 сезон&quot;</td><td>4</td></tr><tr><td>&quot;Сезон 16&quot;</td><td>1</td></tr><tr><td>&quot;Сезон 3&quot;</td><td>10826</td></tr><tr><td>&quot;сезон&quot;</td><td>1</td></tr><tr><td>&hellip;</td><td>&hellip;</td></tr><tr><td>&quot;ДОМ-2: Город л…</td><td>1</td></tr><tr><td>&quot;Сезон&quot;</td><td>610420</td></tr><tr><td>&quot;ДОМ 2 Реальная…</td><td>1</td></tr><tr><td>&quot;Очень важные п…</td><td>8</td></tr><tr><td>&quot;2 сезон&quot;</td><td>75</td></tr><tr><td>&quot;Еврейское счас…</td><td>121</td></tr><tr><td>&quot;2018&quot;</td><td>3</td></tr><tr><td>&quot;Сезон 0&quot;</td><td>10</td></tr><tr><td>&quot;ДОМ 2 Реальная…</td><td>2</td></tr><tr><td>&quot;Сезон 7&quot;</td><td>2099</td></tr><tr><td>&quot;ДОМ-2. Спаси с…</td><td>124</td></tr><tr><td>&quot;Сезон 4&quot;</td><td>5562</td></tr></tbody></table></div>"
      ],
      "text/plain": [
       "shape: (47, 2)\n",
       "┌───────────────────────────────────┬────────┐\n",
       "│ season                            ┆ counts │\n",
       "│ ---                               ┆ ---    │\n",
       "│ str                               ┆ u32    │\n",
       "╞═══════════════════════════════════╪════════╡\n",
       "│ ШЕРЛОК ХОЛМС (СЕРИАЛ-СЕЗОН 1)     ┆ 179    │\n",
       "│ ДОМ 2 Реальная любовь - Лето 201… ┆ 9      │\n",
       "│ Бородина против Бузовой           ┆ 6      │\n",
       "│ Сезон 11                          ┆ 1219   │\n",
       "│ …                                 ┆ …      │\n",
       "│ ДОМ 2 Реальная любовь - Осень 20… ┆ 2      │\n",
       "│ Сезон 7                           ┆ 2099   │\n",
       "│ ДОМ-2. Спаси свою любовь Сезон 2… ┆ 124    │\n",
       "│ Сезон 4                           ┆ 5562   │\n",
       "└───────────────────────────────────┴────────┘"
      ]
     },
     "execution_count": 63,
     "metadata": {},
     "output_type": "execute_result"
    }
   ],
   "source": [
    "automarkup['season'].value_counts()"
   ]
  },
  {
   "cell_type": "code",
   "execution_count": 66,
   "id": "b5b8ff80-5904-4f31-9c09-2802bb05b552",
   "metadata": {},
   "outputs": [
    {
     "data": {
      "text/html": [
       "<div><style>\n",
       ".dataframe > thead > tr > th,\n",
       ".dataframe > tbody > tr > td {\n",
       "  text-align: right;\n",
       "  white-space: pre-wrap;\n",
       "}\n",
       "</style>\n",
       "<small>shape: (2, 2)</small><table border=\"1\" class=\"dataframe\"><thead><tr><th>is_authorized</th><th>counts</th></tr><tr><td>bool</td><td>u32</td></tr></thead><tbody><tr><td>true</td><td>330640</td></tr><tr><td>false</td><td>5903784</td></tr></tbody></table></div>"
      ],
      "text/plain": [
       "shape: (2, 2)\n",
       "┌───────────────┬─────────┐\n",
       "│ is_authorized ┆ counts  │\n",
       "│ ---           ┆ ---     │\n",
       "│ bool          ┆ u32     │\n",
       "╞═══════════════╪═════════╡\n",
       "│ true          ┆ 330640  │\n",
       "│ false         ┆ 5903784 │\n",
       "└───────────────┴─────────┘"
      ]
     },
     "execution_count": 66,
     "metadata": {},
     "output_type": "execute_result"
    }
   ],
   "source": [
    "automarkup['is_authorized'].value_counts()"
   ]
  },
  {
   "cell_type": "code",
   "execution_count": 67,
   "id": "9358b534-8429-42b2-aa4f-f7294c126176",
   "metadata": {},
   "outputs": [
    {
     "data": {
      "text/html": [
       "<div><style>\n",
       ".dataframe > thead > tr > th,\n",
       ".dataframe > tbody > tr > td {\n",
       "  text-align: right;\n",
       "  white-space: pre-wrap;\n",
       "}\n",
       "</style>\n",
       "<small>shape: (2_762, 2)</small><table border=\"1\" class=\"dataframe\"><thead><tr><th>tv_show</th><th>counts</th></tr><tr><td>str</td><td>u32</td></tr></thead><tbody><tr><td>&quot;Хроники москов…</td><td>36</td></tr><tr><td>&quot;Танцы без прав…</td><td>10</td></tr><tr><td>&quot;Московская пле…</td><td>2</td></tr><tr><td>&quot;1937. Год стра…</td><td>1</td></tr><tr><td>&quot;Тропа смерти /…</td><td>4</td></tr><tr><td>&quot;Далекие странн…</td><td>39</td></tr><tr><td>&quot;SHAPKA&quot;</td><td>12</td></tr><tr><td>&quot;Киноистория. В…</td><td>2</td></tr><tr><td>&quot;Ди.Грэй-мен / …</td><td>101</td></tr><tr><td>&quot;Прибытие&quot;</td><td>1</td></tr><tr><td>&quot;Северное сияни…</td><td>10</td></tr><tr><td>&quot;Тачки 2&quot;</td><td>9</td></tr><tr><td>&hellip;</td><td>&hellip;</td></tr><tr><td>&quot;Умник&quot;</td><td>13</td></tr><tr><td>&quot;Сверхъестестве…</td><td>25</td></tr><tr><td>&quot;В поисках Бога…</td><td>21</td></tr><tr><td>&quot;Страна чудес&quot;</td><td>34</td></tr><tr><td>&quot;Чадо из ада&quot;</td><td>1636</td></tr><tr><td>&quot;Гупёшка (2018)…</td><td>1</td></tr><tr><td>&quot;Берлинский син…</td><td>4</td></tr><tr><td>&quot;22 минуты (201…</td><td>51</td></tr><tr><td>&quot;Король Десерто…</td><td>610</td></tr><tr><td>&quot;Ты — топ-модел…</td><td>43</td></tr><tr><td>&quot;Холостяки / Th…</td><td>1</td></tr><tr><td>&quot;Женский стенда…</td><td>265</td></tr></tbody></table></div>"
      ],
      "text/plain": [
       "shape: (2_762, 2)\n",
       "┌───────────────────────────────────┬────────┐\n",
       "│ tv_show                           ┆ counts │\n",
       "│ ---                               ┆ ---    │\n",
       "│ str                               ┆ u32    │\n",
       "╞═══════════════════════════════════╪════════╡\n",
       "│ Хроники московского быта          ┆ 36     │\n",
       "│ Танцы без правил                  ┆ 10     │\n",
       "│ Московская пленница               ┆ 2      │\n",
       "│ 1937. Год страха                  ┆ 1      │\n",
       "│ …                                 ┆ …      │\n",
       "│ Король Десертов                   ┆ 610    │\n",
       "│ Ты — топ-модель на ТНТ            ┆ 43     │\n",
       "│ Холостяки / The Bachelors (2017)  ┆ 1      │\n",
       "│ Женский стендап: Мария Маркова -… ┆ 265    │\n",
       "└───────────────────────────────────┴────────┘"
      ]
     },
     "execution_count": 67,
     "metadata": {},
     "output_type": "execute_result"
    }
   ],
   "source": [
    "automarkup['tv_show'].value_counts()"
   ]
  },
  {
   "cell_type": "code",
   "execution_count": 31,
   "id": "8adee1ad-edb4-4960-ad46-f7f4b4439ced",
   "metadata": {},
   "outputs": [
    {
     "data": {
      "text/html": [
       "<div><style>\n",
       ".dataframe > thead > tr > th,\n",
       ".dataframe > tbody > tr > td {\n",
       "  text-align: right;\n",
       "  white-space: pre-wrap;\n",
       "}\n",
       "</style>\n",
       "<small>shape: (9, 14)</small><table border=\"1\" class=\"dataframe\"><thead><tr><th>describe</th><th>is_authorized</th><th>datetime</th><th>query</th><th>video_id</th><th>duration</th><th>position</th><th>watchtime</th><th>emotion</th><th>vtop</th><th>comment</th><th>channel</th><th>tv_show</th><th>season</th></tr><tr><td>str</td><td>f64</td><td>str</td><td>str</td><td>str</td><td>f64</td><td>f64</td><td>f64</td><td>f64</td><td>f64</td><td>f64</td><td>str</td><td>str</td><td>str</td></tr></thead><tbody><tr><td>&quot;count&quot;</td><td>6.234424e6</td><td>&quot;6234424&quot;</td><td>&quot;6234424&quot;</td><td>&quot;6234424&quot;</td><td>6.234424e6</td><td>6.234424e6</td><td>6.234424e6</td><td>6.234424e6</td><td>6.234424e6</td><td>6.234424e6</td><td>&quot;6234424&quot;</td><td>&quot;6234424&quot;</td><td>&quot;6234424&quot;</td></tr><tr><td>&quot;null_count&quot;</td><td>0.0</td><td>&quot;0&quot;</td><td>&quot;0&quot;</td><td>&quot;0&quot;</td><td>0.0</td><td>0.0</td><td>0.0</td><td>0.0</td><td>6.21255e6</td><td>0.0</td><td>&quot;213&quot;</td><td>&quot;2702589&quot;</td><td>&quot;5543943&quot;</td></tr><tr><td>&quot;mean&quot;</td><td>0.053035</td><td>null</td><td>null</td><td>null</td><td>3.1858e6</td><td>3.537818</td><td>1110.193369</td><td>0.0065</td><td>1.0</td><td>0.004891</td><td>null</td><td>null</td><td>null</td></tr><tr><td>&quot;std&quot;</td><td>0.224102</td><td>null</td><td>null</td><td>null</td><td>3.0241e6</td><td>7.102413</td><td>1847.504495</td><td>0.158952</td><td>0.0</td><td>0.069762</td><td>null</td><td>null</td><td>null</td></tr><tr><td>&quot;min&quot;</td><td>0.0</td><td>&quot;2023-05-03 00:…</td><td>&quot; &quot;</td><td>&quot;video_10000005…</td><td>0.0</td><td>1.0</td><td>-1.0</td><td>0.0</td><td>1.0</td><td>0.0</td><td>&quot; CAUCASIAN UNI…</td><td>&quot; Пчёлка Майя и…</td><td>&quot;0 сезон&quot;</td></tr><tr><td>&quot;25%&quot;</td><td>null</td><td>null</td><td>null</td><td>null</td><td>378763.0</td><td>1.0</td><td>11.0</td><td>0.0</td><td>null</td><td>0.0</td><td>null</td><td>null</td><td>null</td></tr><tr><td>&quot;50%&quot;</td><td>null</td><td>null</td><td>null</td><td>null</td><td>2.557534e6</td><td>1.0</td><td>151.0</td><td>0.0</td><td>null</td><td>0.0</td><td>null</td><td>null</td><td>null</td></tr><tr><td>&quot;75%&quot;</td><td>null</td><td>null</td><td>null</td><td>null</td><td>5.597534e6</td><td>3.0</td><td>1591.0</td><td>0.0</td><td>null</td><td>0.0</td><td>null</td><td>null</td><td>null</td></tr><tr><td>&quot;max&quot;</td><td>1.0</td><td>&quot;2023-11-03 23:…</td><td>&quot;🧙‍♀️ееееее&quot;</td><td>&quot;video_9999973&quot;</td><td>2.1475e9</td><td>100.0</td><td>1.171925e6</td><td>12.0</td><td>1.0</td><td>1.0</td><td>&quot;Ｒｅｂｏｒｎ&quot;</td><td>&quot;№13&quot;</td><td>&quot;сезон&quot;</td></tr></tbody></table></div>"
      ],
      "text/plain": [
       "shape: (9, 14)\n",
       "┌────────────┬───────────┬───────────┬───────────┬───┬───────────┬───────────┬───────────┬─────────┐\n",
       "│ describe   ┆ is_author ┆ datetime  ┆ query     ┆ … ┆ comment   ┆ channel   ┆ tv_show   ┆ season  │\n",
       "│ ---        ┆ ized      ┆ ---       ┆ ---       ┆   ┆ ---       ┆ ---       ┆ ---       ┆ ---     │\n",
       "│ str        ┆ ---       ┆ str       ┆ str       ┆   ┆ f64       ┆ str       ┆ str       ┆ str     │\n",
       "│            ┆ f64       ┆           ┆           ┆   ┆           ┆           ┆           ┆         │\n",
       "╞════════════╪═══════════╪═══════════╪═══════════╪═══╪═══════════╪═══════════╪═══════════╪═════════╡\n",
       "│ count      ┆ 6.234424e ┆ 6234424   ┆ 6234424   ┆ … ┆ 6.234424e ┆ 6234424   ┆ 6234424   ┆ 6234424 │\n",
       "│            ┆ 6         ┆           ┆           ┆   ┆ 6         ┆           ┆           ┆         │\n",
       "│ null_count ┆ 0.0       ┆ 0         ┆ 0         ┆ … ┆ 0.0       ┆ 213       ┆ 2702589   ┆ 5543943 │\n",
       "│ mean       ┆ 0.053035  ┆ null      ┆ null      ┆ … ┆ 0.004891  ┆ null      ┆ null      ┆ null    │\n",
       "│ std        ┆ 0.224102  ┆ null      ┆ null      ┆ … ┆ 0.069762  ┆ null      ┆ null      ┆ null    │\n",
       "│ min        ┆ 0.0       ┆ 2023-05-0 ┆           ┆ … ┆ 0.0       ┆ CAUCASIAN ┆ Пчёлка    ┆ 0 сезон │\n",
       "│            ┆           ┆ 3 00:00:0 ┆           ┆   ┆           ┆ UNION     ┆ Майя и    ┆         │\n",
       "│            ┆           ┆ 1+03:00   ┆           ┆   ┆           ┆           ┆ Кубок     ┆         │\n",
       "│            ┆           ┆           ┆           ┆   ┆           ┆           ┆ мёда/     ┆         │\n",
       "│            ┆           ┆           ┆           ┆   ┆           ┆           ┆ Maya …    ┆         │\n",
       "│ 25%        ┆ null      ┆ null      ┆ null      ┆ … ┆ 0.0       ┆ null      ┆ null      ┆ null    │\n",
       "│ 50%        ┆ null      ┆ null      ┆ null      ┆ … ┆ 0.0       ┆ null      ┆ null      ┆ null    │\n",
       "│ 75%        ┆ null      ┆ null      ┆ null      ┆ … ┆ 0.0       ┆ null      ┆ null      ┆ null    │\n",
       "│ max        ┆ 1.0       ┆ 2023-11-0 ┆ 🧙‍♀️ееееее ┆ … ┆ 1.0       ┆ Ｒｅｂｏ  ┆ №13       ┆ сезон   │\n",
       "│            ┆           ┆ 3 23:59:5 ┆           ┆   ┆           ┆ ｒｎ      ┆           ┆         │\n",
       "│            ┆           ┆ 5+03:00   ┆           ┆   ┆           ┆           ┆           ┆         │\n",
       "└────────────┴───────────┴───────────┴───────────┴───┴───────────┴───────────┴───────────┴─────────┘"
      ]
     },
     "execution_count": 31,
     "metadata": {},
     "output_type": "execute_result"
    }
   ],
   "source": [
    "automarkup.describe()"
   ]
  },
  {
   "cell_type": "code",
   "execution_count": 68,
   "id": "ab0414a8-10f8-446a-8607-862b0e4559e0",
   "metadata": {},
   "outputs": [
    {
     "name": "stdout",
     "output_type": "stream",
     "text": [
      "features_aug.parquet  features_may.parquet  features_sep.parquet\n",
      "features_jul.parquet  features_nov.parquet\n",
      "features_jun.parquet  features_oct.parquet\n"
     ]
    }
   ],
   "source": [
    "!ls features"
   ]
  },
  {
   "cell_type": "code",
   "execution_count": 69,
   "id": "12c1a0f4-a9df-4c28-9cf8-225f25a0be99",
   "metadata": {},
   "outputs": [],
   "source": [
    "features_aug = pl.read_parquet('features/features_aug.parquet')"
   ]
  },
  {
   "cell_type": "code",
   "execution_count": 70,
   "id": "ca23e090-5609-4eff-9920-4ec3bce2b0bc",
   "metadata": {},
   "outputs": [
    {
     "data": {
      "text/html": [
       "<div><style>\n",
       ".dataframe > thead > tr > th,\n",
       ".dataframe > tbody > tr > td {\n",
       "  text-align: right;\n",
       "  white-space: pre-wrap;\n",
       "}\n",
       "</style>\n",
       "<small>shape: (8_612_353, 29)</small><table border=\"1\" class=\"dataframe\"><thead><tr><th>video_id</th><th>report_date</th><th>v_channel_reg_datetime</th><th>v_channel_type</th><th>v_category</th><th>v_pub_datetime</th><th>total_comments</th><th>v_year_views</th><th>v_month_views</th><th>v_week_views</th><th>v_day_views</th><th>v_likes</th><th>v_dislikes</th><th>v_duration</th><th>v_cr_click_like_7_days</th><th>v_cr_click_dislike_7_days</th><th>v_cr_click_vtop_7_days</th><th>v_cr_click_long_view_7_days</th><th>v_cr_click_comment_7_days</th><th>v_cr_click_like_30_days</th><th>v_cr_click_dislike_30_days</th><th>v_cr_click_vtop_30_days</th><th>v_cr_click_long_view_30_days</th><th>v_cr_click_comment_30_days</th><th>v_cr_click_like_1_days</th><th>v_cr_click_dislike_1_days</th><th>v_cr_click_vtop_1_days</th><th>v_cr_click_long_view_1_days</th><th>v_cr_click_comment_1_days</th></tr><tr><td>str</td><td>str</td><td>str</td><td>str</td><td>str</td><td>str</td><td>i64</td><td>i64</td><td>i64</td><td>i64</td><td>i64</td><td>i64</td><td>i64</td><td>i64</td><td>f64</td><td>f64</td><td>f64</td><td>f64</td><td>f64</td><td>f64</td><td>f64</td><td>f64</td><td>f64</td><td>f64</td><td>f64</td><td>f64</td><td>f64</td><td>f64</td><td>f64</td></tr></thead><tbody><tr><td>&quot;video_2947178&quot;</td><td>&quot;2023-08-02&quot;</td><td>&quot;2015-02-11 11:…</td><td>&quot;UGC&quot;</td><td>&quot;Музыка&quot;</td><td>&quot;2015-04-27 16:…</td><td>0</td><td>4</td><td>1</td><td>0</td><td>0</td><td>0</td><td>0</td><td>218440</td><td>0.0</td><td>0.0</td><td>0.0</td><td>0.0</td><td>0.0</td><td>0.0</td><td>0.0</td><td>0.0</td><td>0.0</td><td>0.0</td><td>0.0</td><td>0.0</td><td>0.0</td><td>0.0</td><td>0.0</td></tr><tr><td>&quot;video_33435616…</td><td>&quot;2023-08-02&quot;</td><td>&quot;2022-04-09 18:…</td><td>&quot;UGC&quot;</td><td>&quot;Музыка&quot;</td><td>&quot;2022-04-26 17:…</td><td>0</td><td>17</td><td>0</td><td>0</td><td>0</td><td>0</td><td>0</td><td>226349</td><td>0.0</td><td>0.0</td><td>0.0</td><td>0.0</td><td>0.0</td><td>0.0</td><td>0.0</td><td>0.0</td><td>0.0</td><td>0.0</td><td>0.0</td><td>0.0</td><td>0.0</td><td>0.0</td><td>0.0</td></tr><tr><td>&quot;video_17123907…</td><td>&quot;2023-08-02&quot;</td><td>&quot;2014-07-27 10:…</td><td>&quot;UGC&quot;</td><td>&quot;Разное&quot;</td><td>&quot;2014-11-15 20:…</td><td>0</td><td>2</td><td>0</td><td>0</td><td>0</td><td>0</td><td>0</td><td>15208</td><td>0.0</td><td>0.0</td><td>0.0</td><td>0.0</td><td>0.0</td><td>0.0</td><td>0.0</td><td>0.0</td><td>0.0</td><td>0.0</td><td>0.0</td><td>0.0</td><td>0.0</td><td>0.0</td><td>0.0</td></tr><tr><td>&quot;video_19099582…</td><td>&quot;2023-08-02&quot;</td><td>&quot;2022-03-05 05:…</td><td>&quot;UGC&quot;</td><td>&quot;Кулинария&quot;</td><td>&quot;2022-03-07 13:…</td><td>0</td><td>0</td><td>0</td><td>0</td><td>0</td><td>0</td><td>0</td><td>333834</td><td>0.0</td><td>0.0</td><td>0.0</td><td>0.0</td><td>0.0</td><td>0.0</td><td>0.0</td><td>0.0</td><td>0.0</td><td>0.0</td><td>0.0</td><td>0.0</td><td>0.0</td><td>0.0</td><td>0.0</td></tr><tr><td>&quot;video_20408586…</td><td>&quot;2023-08-02&quot;</td><td>&quot;2022-09-27 16:…</td><td>&quot;UGC&quot;</td><td>&quot;Аниме&quot;</td><td>&quot;2022-11-18 11:…</td><td>0</td><td>14</td><td>0</td><td>0</td><td>0</td><td>0</td><td>0</td><td>267222</td><td>0.0</td><td>0.0</td><td>0.0</td><td>0.0</td><td>0.0</td><td>0.0</td><td>0.0</td><td>0.0</td><td>0.0</td><td>0.0</td><td>0.0</td><td>0.0</td><td>0.0</td><td>0.0</td><td>0.0</td></tr><tr><td>&quot;video_5090847&quot;</td><td>&quot;2023-08-02&quot;</td><td>&quot;2022-03-13 12:…</td><td>&quot;UGC&quot;</td><td>&quot;Видеоигры&quot;</td><td>&quot;2023-04-24 17:…</td><td>0</td><td>4</td><td>1</td><td>0</td><td>0</td><td>0</td><td>0</td><td>1368517</td><td>0.0</td><td>0.0</td><td>0.0</td><td>0.0</td><td>0.0</td><td>0.0</td><td>0.0</td><td>0.0</td><td>0.0</td><td>0.0</td><td>0.0</td><td>0.0</td><td>0.0</td><td>0.0</td><td>0.0</td></tr><tr><td>&quot;video_17896697…</td><td>&quot;2023-08-02&quot;</td><td>&quot;2022-03-15 06:…</td><td>&quot;ТВ И СМИ&quot;</td><td>&quot;Телепередачи&quot;</td><td>&quot;2022-04-13 12:…</td><td>0</td><td>41</td><td>6</td><td>0</td><td>0</td><td>0</td><td>0</td><td>2644010</td><td>0.0</td><td>0.0</td><td>0.0</td><td>0.0</td><td>0.0</td><td>0.0</td><td>0.0</td><td>0.0</td><td>0.666667</td><td>0.0</td><td>0.0</td><td>0.0</td><td>0.0</td><td>0.0</td><td>0.0</td></tr><tr><td>&quot;video_10477427…</td><td>&quot;2023-08-02&quot;</td><td>&quot;2021-02-28 17:…</td><td>&quot;UGC&quot;</td><td>&quot;Развлечения&quot;</td><td>&quot;2022-03-21 19:…</td><td>0</td><td>6</td><td>1</td><td>0</td><td>0</td><td>0</td><td>0</td><td>1322632</td><td>0.0</td><td>0.0</td><td>0.0</td><td>0.0</td><td>0.0</td><td>0.0</td><td>0.0</td><td>0.0</td><td>0.0</td><td>0.0</td><td>0.0</td><td>0.0</td><td>0.0</td><td>0.0</td><td>0.0</td></tr><tr><td>&quot;video_27183655…</td><td>&quot;2023-08-02&quot;</td><td>&quot;2023-01-30 07:…</td><td>&quot;UGC&quot;</td><td>&quot;Лайфстайл&quot;</td><td>&quot;2023-03-06 15:…</td><td>0</td><td>5</td><td>0</td><td>0</td><td>0</td><td>0</td><td>0</td><td>1097910</td><td>0.0</td><td>0.0</td><td>0.0</td><td>0.0</td><td>0.0</td><td>0.0</td><td>0.0</td><td>0.0</td><td>0.0</td><td>0.0</td><td>0.0</td><td>0.0</td><td>0.0</td><td>0.0</td><td>0.0</td></tr><tr><td>&quot;video_17159773…</td><td>&quot;2023-08-02&quot;</td><td>&quot;2023-06-23 11:…</td><td>&quot;UGC&quot;</td><td>&quot;Разное&quot;</td><td>&quot;2023-07-10 07:…</td><td>0</td><td>1</td><td>1</td><td>1</td><td>0</td><td>0</td><td>0</td><td>4022602</td><td>0.0</td><td>0.0</td><td>0.0</td><td>0.0</td><td>0.0</td><td>0.0</td><td>0.0</td><td>0.0</td><td>0.0</td><td>0.0</td><td>0.0</td><td>0.0</td><td>0.0</td><td>0.0</td><td>0.0</td></tr><tr><td>&quot;video_28263723…</td><td>&quot;2023-08-02&quot;</td><td>&quot;2022-10-07 20:…</td><td>&quot;UGC&quot;</td><td>&quot;Видеоигры&quot;</td><td>&quot;2023-02-25 06:…</td><td>0</td><td>1</td><td>0</td><td>0</td><td>0</td><td>0</td><td>0</td><td>2075266</td><td>0.0</td><td>0.0</td><td>0.0</td><td>0.0</td><td>0.0</td><td>0.0</td><td>0.0</td><td>0.0</td><td>0.0</td><td>0.0</td><td>0.0</td><td>0.0</td><td>0.0</td><td>0.0</td><td>0.0</td></tr><tr><td>&quot;video_16596203…</td><td>&quot;2023-08-02&quot;</td><td>&quot;2022-04-12 16:…</td><td>&quot;UGC&quot;</td><td>&quot;Спорт&quot;</td><td>&quot;2022-04-12 16:…</td><td>0</td><td>2</td><td>0</td><td>0</td><td>0</td><td>0</td><td>0</td><td>2893277</td><td>0.0</td><td>0.0</td><td>0.0</td><td>0.0</td><td>0.0</td><td>0.0</td><td>0.0</td><td>0.0</td><td>0.0</td><td>0.0</td><td>0.0</td><td>0.0</td><td>0.0</td><td>0.0</td><td>0.0</td></tr><tr><td>&hellip;</td><td>&hellip;</td><td>&hellip;</td><td>&hellip;</td><td>&hellip;</td><td>&hellip;</td><td>&hellip;</td><td>&hellip;</td><td>&hellip;</td><td>&hellip;</td><td>&hellip;</td><td>&hellip;</td><td>&hellip;</td><td>&hellip;</td><td>&hellip;</td><td>&hellip;</td><td>&hellip;</td><td>&hellip;</td><td>&hellip;</td><td>&hellip;</td><td>&hellip;</td><td>&hellip;</td><td>&hellip;</td><td>&hellip;</td><td>&hellip;</td><td>&hellip;</td><td>&hellip;</td><td>&hellip;</td><td>&hellip;</td></tr><tr><td>&quot;video_30106001…</td><td>&quot;2023-08-02&quot;</td><td>&quot;2022-03-15 07:…</td><td>&quot;UGC&quot;</td><td>&quot;Интервью&quot;</td><td>&quot;2023-03-17 07:…</td><td>0</td><td>17</td><td>0</td><td>0</td><td>0</td><td>0</td><td>0</td><td>560067</td><td>0.0</td><td>0.0</td><td>0.0</td><td>0.0</td><td>0.0</td><td>0.0</td><td>0.0</td><td>0.0</td><td>0.0</td><td>0.0</td><td>0.0</td><td>0.0</td><td>0.0</td><td>0.0</td><td>0.0</td></tr><tr><td>&quot;video_15669201…</td><td>&quot;2023-08-02&quot;</td><td>&quot;2012-10-22 20:…</td><td>&quot;UGC&quot;</td><td>&quot;Хобби&quot;</td><td>&quot;2011-05-03 16:…</td><td>0</td><td>0</td><td>0</td><td>0</td><td>0</td><td>0</td><td>0</td><td>262360</td><td>0.0</td><td>0.0</td><td>0.0</td><td>0.0</td><td>0.0</td><td>0.0</td><td>0.0</td><td>0.0</td><td>0.0</td><td>0.0</td><td>0.0</td><td>0.0</td><td>0.0</td><td>0.0</td><td>0.0</td></tr><tr><td>&quot;video_14206699…</td><td>&quot;2023-08-02&quot;</td><td>&quot;2012-06-27 12:…</td><td>&quot;ТВ И СМИ&quot;</td><td>&quot;Телепередачи&quot;</td><td>&quot;2016-02-18 06:…</td><td>0</td><td>63</td><td>5</td><td>1</td><td>0</td><td>0</td><td>0</td><td>4598807</td><td>0.0</td><td>0.0</td><td>0.0</td><td>0.0</td><td>0.0</td><td>0.0</td><td>0.0</td><td>0.0</td><td>0.0</td><td>0.0</td><td>0.0</td><td>0.0</td><td>0.0</td><td>0.0</td><td>0.0</td></tr><tr><td>&quot;video_8242972&quot;</td><td>&quot;2023-08-02&quot;</td><td>&quot;2023-04-24 17:…</td><td>&quot;UGC&quot;</td><td>&quot;Видеоигры&quot;</td><td>&quot;2023-05-02 09:…</td><td>0</td><td>9</td><td>0</td><td>0</td><td>0</td><td>1</td><td>0</td><td>178034</td><td>0.0</td><td>0.0</td><td>0.0</td><td>0.0</td><td>0.0</td><td>0.0</td><td>0.0</td><td>0.0</td><td>0.0</td><td>0.0</td><td>0.0</td><td>0.0</td><td>0.0</td><td>0.0</td><td>0.0</td></tr><tr><td>&quot;video_8524216&quot;</td><td>&quot;2023-08-02&quot;</td><td>&quot;2012-07-03 03:…</td><td>&quot;UGC&quot;</td><td>&quot;Музыка&quot;</td><td>&quot;2009-05-07 17:…</td><td>0</td><td>0</td><td>0</td><td>0</td><td>0</td><td>0</td><td>0</td><td>225700</td><td>0.0</td><td>0.0</td><td>0.0</td><td>0.0</td><td>0.0</td><td>0.0</td><td>0.0</td><td>0.0</td><td>0.0</td><td>0.0</td><td>0.0</td><td>0.0</td><td>0.0</td><td>0.0</td><td>0.0</td></tr><tr><td>&quot;video_32061774…</td><td>&quot;2023-08-02&quot;</td><td>&quot;2019-03-29 22:…</td><td>&quot;UGC&quot;</td><td>&quot;Технологии и и…</td><td>&quot;2019-03-29 22:…</td><td>0</td><td>2</td><td>1</td><td>0</td><td>0</td><td>0</td><td>0</td><td>462773</td><td>0.0</td><td>0.0</td><td>0.0</td><td>0.0</td><td>0.0</td><td>0.0</td><td>0.0</td><td>0.0</td><td>0.0</td><td>0.0</td><td>0.0</td><td>0.0</td><td>0.0</td><td>0.0</td><td>0.0</td></tr><tr><td>&quot;video_8865664&quot;</td><td>&quot;2023-08-02&quot;</td><td>&quot;2021-06-18 13:…</td><td>&quot;UGC&quot;</td><td>&quot;Юмор&quot;</td><td>&quot;2022-04-20 06:…</td><td>2</td><td>5</td><td>0</td><td>0</td><td>0</td><td>0</td><td>0</td><td>148843</td><td>0.0</td><td>0.0</td><td>0.0</td><td>0.0</td><td>0.0</td><td>0.0</td><td>0.0</td><td>0.0</td><td>0.0</td><td>0.0</td><td>0.0</td><td>0.0</td><td>0.0</td><td>0.0</td><td>0.0</td></tr><tr><td>&quot;video_15238911…</td><td>&quot;2023-08-02&quot;</td><td>&quot;2022-03-15 11:…</td><td>&quot;UGC&quot;</td><td>&quot;Путешествия&quot;</td><td>&quot;2022-03-30 00:…</td><td>0</td><td>14848</td><td>656</td><td>102</td><td>14</td><td>0</td><td>0</td><td>1228870</td><td>0.0</td><td>0.0</td><td>0.0</td><td>0.009804</td><td>0.0</td><td>0.0</td><td>0.0</td><td>0.0</td><td>0.025915</td><td>0.0</td><td>0.0</td><td>0.0</td><td>0.0</td><td>0.0</td><td>0.0</td></tr><tr><td>&quot;video_27363972…</td><td>&quot;2023-08-02&quot;</td><td>&quot;2022-04-06 12:…</td><td>&quot;UGC&quot;</td><td>&quot;Технологии и и…</td><td>&quot;2022-04-12 05:…</td><td>0</td><td>233</td><td>15</td><td>0</td><td>0</td><td>0</td><td>0</td><td>130155</td><td>0.0</td><td>0.0</td><td>0.0</td><td>0.0</td><td>0.0</td><td>0.0</td><td>0.0</td><td>0.0</td><td>0.866667</td><td>0.0</td><td>0.0</td><td>0.0</td><td>0.0</td><td>0.0</td><td>0.0</td></tr><tr><td>&quot;video_10898212…</td><td>&quot;2023-08-02&quot;</td><td>&quot;2013-03-10 12:…</td><td>&quot;UGC&quot;</td><td>&quot;Видеоигры&quot;</td><td>&quot;2014-05-30 02:…</td><td>0</td><td>0</td><td>0</td><td>0</td><td>0</td><td>0</td><td>0</td><td>278430</td><td>0.0</td><td>0.0</td><td>0.0</td><td>0.0</td><td>0.0</td><td>0.0</td><td>0.0</td><td>0.0</td><td>0.0</td><td>0.0</td><td>0.0</td><td>0.0</td><td>0.0</td><td>0.0</td><td>0.0</td></tr><tr><td>&quot;video_30259604…</td><td>&quot;2023-08-02&quot;</td><td>&quot;2022-03-13 17:…</td><td>&quot;UGC&quot;</td><td>&quot;Видеоигры&quot;</td><td>&quot;2022-07-01 22:…</td><td>0</td><td>1</td><td>0</td><td>0</td><td>0</td><td>0</td><td>0</td><td>5691867</td><td>0.0</td><td>0.0</td><td>0.0</td><td>0.0</td><td>0.0</td><td>0.0</td><td>0.0</td><td>0.0</td><td>0.0</td><td>0.0</td><td>0.0</td><td>0.0</td><td>0.0</td><td>0.0</td><td>0.0</td></tr><tr><td>&quot;video_19840957…</td><td>&quot;2023-08-02&quot;</td><td>&quot;2023-01-13 17:…</td><td>&quot;UGC&quot;</td><td>&quot;Лайфстайл&quot;</td><td>&quot;2023-01-17 20:…</td><td>0</td><td>6</td><td>0</td><td>0</td><td>0</td><td>0</td><td>0</td><td>490034</td><td>0.0</td><td>0.0</td><td>0.0</td><td>0.0</td><td>0.0</td><td>0.0</td><td>0.0</td><td>0.0</td><td>0.0</td><td>0.0</td><td>0.0</td><td>0.0</td><td>0.0</td><td>0.0</td><td>0.0</td></tr></tbody></table></div>"
      ],
      "text/plain": [
       "shape: (8_612_353, 29)\n",
       "┌───────────┬───────────┬───────────┬───────────┬───┬───────────┬───────────┬───────────┬──────────┐\n",
       "│ video_id  ┆ report_da ┆ v_channel ┆ v_channel ┆ … ┆ v_cr_clic ┆ v_cr_clic ┆ v_cr_clic ┆ v_cr_cli │\n",
       "│ ---       ┆ te        ┆ _reg_date ┆ _type     ┆   ┆ k_dislike ┆ k_vtop_1_ ┆ k_long_vi ┆ ck_comme │\n",
       "│ str       ┆ ---       ┆ time      ┆ ---       ┆   ┆ _1_days   ┆ days      ┆ ew_1_days ┆ nt_1_day │\n",
       "│           ┆ str       ┆ ---       ┆ str       ┆   ┆ ---       ┆ ---       ┆ ---       ┆ s        │\n",
       "│           ┆           ┆ str       ┆           ┆   ┆ f64       ┆ f64       ┆ f64       ┆ ---      │\n",
       "│           ┆           ┆           ┆           ┆   ┆           ┆           ┆           ┆ f64      │\n",
       "╞═══════════╪═══════════╪═══════════╪═══════════╪═══╪═══════════╪═══════════╪═══════════╪══════════╡\n",
       "│ video_294 ┆ 2023-08-0 ┆ 2015-02-1 ┆ UGC       ┆ … ┆ 0.0       ┆ 0.0       ┆ 0.0       ┆ 0.0      │\n",
       "│ 7178      ┆ 2         ┆ 1         ┆           ┆   ┆           ┆           ┆           ┆          │\n",
       "│           ┆           ┆ 11:25:18  ┆           ┆   ┆           ┆           ┆           ┆          │\n",
       "│ video_334 ┆ 2023-08-0 ┆ 2022-04-0 ┆ UGC       ┆ … ┆ 0.0       ┆ 0.0       ┆ 0.0       ┆ 0.0      │\n",
       "│ 35616     ┆ 2         ┆ 9         ┆           ┆   ┆           ┆           ┆           ┆          │\n",
       "│           ┆           ┆ 18:12:08  ┆           ┆   ┆           ┆           ┆           ┆          │\n",
       "│ video_171 ┆ 2023-08-0 ┆ 2014-07-2 ┆ UGC       ┆ … ┆ 0.0       ┆ 0.0       ┆ 0.0       ┆ 0.0      │\n",
       "│ 23907     ┆ 2         ┆ 7         ┆           ┆   ┆           ┆           ┆           ┆          │\n",
       "│           ┆           ┆ 10:06:12  ┆           ┆   ┆           ┆           ┆           ┆          │\n",
       "│ video_190 ┆ 2023-08-0 ┆ 2022-03-0 ┆ UGC       ┆ … ┆ 0.0       ┆ 0.0       ┆ 0.0       ┆ 0.0      │\n",
       "│ 99582     ┆ 2         ┆ 5         ┆           ┆   ┆           ┆           ┆           ┆          │\n",
       "│           ┆           ┆ 05:21:32  ┆           ┆   ┆           ┆           ┆           ┆          │\n",
       "│ …         ┆ …         ┆ …         ┆ …         ┆ … ┆ …         ┆ …         ┆ …         ┆ …        │\n",
       "│ video_273 ┆ 2023-08-0 ┆ 2022-04-0 ┆ UGC       ┆ … ┆ 0.0       ┆ 0.0       ┆ 0.0       ┆ 0.0      │\n",
       "│ 63972     ┆ 2         ┆ 6         ┆           ┆   ┆           ┆           ┆           ┆          │\n",
       "│           ┆           ┆ 12:17:55  ┆           ┆   ┆           ┆           ┆           ┆          │\n",
       "│ video_108 ┆ 2023-08-0 ┆ 2013-03-1 ┆ UGC       ┆ … ┆ 0.0       ┆ 0.0       ┆ 0.0       ┆ 0.0      │\n",
       "│ 98212     ┆ 2         ┆ 0         ┆           ┆   ┆           ┆           ┆           ┆          │\n",
       "│           ┆           ┆ 12:20:49  ┆           ┆   ┆           ┆           ┆           ┆          │\n",
       "│ video_302 ┆ 2023-08-0 ┆ 2022-03-1 ┆ UGC       ┆ … ┆ 0.0       ┆ 0.0       ┆ 0.0       ┆ 0.0      │\n",
       "│ 59604     ┆ 2         ┆ 3         ┆           ┆   ┆           ┆           ┆           ┆          │\n",
       "│           ┆           ┆ 17:47:08  ┆           ┆   ┆           ┆           ┆           ┆          │\n",
       "│ video_198 ┆ 2023-08-0 ┆ 2023-01-1 ┆ UGC       ┆ … ┆ 0.0       ┆ 0.0       ┆ 0.0       ┆ 0.0      │\n",
       "│ 40957     ┆ 2         ┆ 3         ┆           ┆   ┆           ┆           ┆           ┆          │\n",
       "│           ┆           ┆ 17:11:06  ┆           ┆   ┆           ┆           ┆           ┆          │\n",
       "└───────────┴───────────┴───────────┴───────────┴───┴───────────┴───────────┴───────────┴──────────┘"
      ]
     },
     "execution_count": 70,
     "metadata": {},
     "output_type": "execute_result"
    }
   ],
   "source": [
    "features_aug"
   ]
  },
  {
   "cell_type": "code",
   "execution_count": null,
   "id": "40172165-0afe-40f1-ac7f-6ba28afc2760",
   "metadata": {},
   "outputs": [],
   "source": []
  }
 ],
 "metadata": {
  "kernelspec": {
   "display_name": "Python 3 (ipykernel)",
   "language": "python",
   "name": "python3"
  },
  "language_info": {
   "codemirror_mode": {
    "name": "ipython",
    "version": 3
   },
   "file_extension": ".py",
   "mimetype": "text/x-python",
   "name": "python",
   "nbconvert_exporter": "python",
   "pygments_lexer": "ipython3",
   "version": "3.11.6"
  }
 },
 "nbformat": 4,
 "nbformat_minor": 5
}
