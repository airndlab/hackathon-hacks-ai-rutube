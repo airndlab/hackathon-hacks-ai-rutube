{
 "cells": [
  {
   "cell_type": "code",
   "execution_count": 1,
   "id": "fd664508-36a3-4429-9476-fae0d865a533",
   "metadata": {
    "execution": {
     "iopub.execute_input": "2023-11-25T07:57:10.645532Z",
     "iopub.status.busy": "2023-11-25T07:57:10.645023Z",
     "iopub.status.idle": "2023-11-25T07:57:10.690402Z",
     "shell.execute_reply": "2023-11-25T07:57:10.689945Z",
     "shell.execute_reply.started": "2023-11-25T07:57:10.645512Z"
    }
   },
   "outputs": [
    {
     "data": {
      "text/plain": [
       "<polars.config.Config at 0x7f9a3c56b290>"
      ]
     },
     "execution_count": 1,
     "metadata": {},
     "output_type": "execute_result"
    }
   ],
   "source": [
    "import polars as pl\n",
    "pl.Config(fmt_str_lengths=200)"
   ]
  },
  {
   "cell_type": "code",
   "execution_count": 2,
   "id": "6cbfc0ba-310c-4c7c-8c5e-2cada2ffb592",
   "metadata": {
    "execution": {
     "iopub.execute_input": "2023-11-25T07:57:12.700823Z",
     "iopub.status.busy": "2023-11-25T07:57:12.700418Z",
     "iopub.status.idle": "2023-11-25T07:57:12.704128Z",
     "shell.execute_reply": "2023-11-25T07:57:12.703667Z",
     "shell.execute_reply.started": "2023-11-25T07:57:12.700804Z"
    }
   },
   "outputs": [
    {
     "data": {
      "text/plain": [
       "'/home/jovyan/smirnov'"
      ]
     },
     "execution_count": 2,
     "metadata": {},
     "output_type": "execute_result"
    }
   ],
   "source": [
    "import os\n",
    "os.getcwd()"
   ]
  },
  {
   "cell_type": "code",
   "execution_count": 3,
   "id": "7ffa78a4-7ed3-4a00-9c61-58963687530c",
   "metadata": {
    "execution": {
     "iopub.execute_input": "2023-11-25T07:57:13.454784Z",
     "iopub.status.busy": "2023-11-25T07:57:13.454292Z",
     "iopub.status.idle": "2023-11-25T07:57:13.478905Z",
     "shell.execute_reply": "2023-11-25T07:57:13.478477Z",
     "shell.execute_reply.started": "2023-11-25T07:57:13.454762Z"
    }
   },
   "outputs": [],
   "source": [
    "test = pl.read_csv('/home/jovyan/smirnov/our_submissions/test_dataset_submission_queries.csv')"
   ]
  },
  {
   "cell_type": "code",
   "execution_count": 4,
   "id": "a0ff4b94-eb10-412b-845d-1212ae543296",
   "metadata": {
    "execution": {
     "iopub.execute_input": "2023-11-25T07:57:15.204229Z",
     "iopub.status.busy": "2023-11-25T07:57:15.203726Z",
     "iopub.status.idle": "2023-11-25T07:57:15.211028Z",
     "shell.execute_reply": "2023-11-25T07:57:15.210624Z",
     "shell.execute_reply.started": "2023-11-25T07:57:15.204211Z"
    }
   },
   "outputs": [
    {
     "data": {
      "text/html": [
       "<div><style>\n",
       ".dataframe > thead > tr > th,\n",
       ".dataframe > tbody > tr > td {\n",
       "  text-align: right;\n",
       "  white-space: pre-wrap;\n",
       "}\n",
       "</style>\n",
       "<small>shape: (5, 1)</small><table border=\"1\" class=\"dataframe\"><thead><tr><th>query</th></tr><tr><td>str</td></tr></thead><tbody><tr><td>&quot;Битва сильнейших экстрасенсов 2023 смотреть | Экстрасенсы битва сильнейших 35, 36 серия&quot;</td></tr><tr><td>&quot;битва сильнейших экстрасенсов 2023\\nбитва сильнейших экстрасенсов 2023 смотреть&quot;</td></tr><tr><td>&quot;Экстрасенсы. Битва сильнейших, 4 выпуск&quot;</td></tr><tr><td>&quot;супер стар 4 сезон&quot;</td></tr><tr><td>&quot;пять ночей с Фредди&quot;</td></tr></tbody></table></div>"
      ],
      "text/plain": [
       "shape: (5, 1)\n",
       "┌─────────────────────────────────────────────────────────────────────────────────────────┐\n",
       "│ query                                                                                   │\n",
       "│ ---                                                                                     │\n",
       "│ str                                                                                     │\n",
       "╞═════════════════════════════════════════════════════════════════════════════════════════╡\n",
       "│ Битва сильнейших экстрасенсов 2023 смотреть | Экстрасенсы битва сильнейших 35, 36 серия │\n",
       "│ битва сильнейших экстрасенсов 2023\\nбитва сильнейших экстрасенсов 2023 смотреть         │\n",
       "│ Экстрасенсы. Битва сильнейших, 4 выпуск                                                 │\n",
       "│ супер стар 4 сезон                                                                      │\n",
       "│ пять ночей с Фредди                                                                     │\n",
       "└─────────────────────────────────────────────────────────────────────────────────────────┘"
      ]
     },
     "execution_count": 4,
     "metadata": {},
     "output_type": "execute_result"
    }
   ],
   "source": [
    "test.head(5)"
   ]
  },
  {
   "cell_type": "code",
   "execution_count": 5,
   "id": "1d3e7aea-4e59-493b-9d39-6e5e86c40796",
   "metadata": {
    "execution": {
     "iopub.execute_input": "2023-11-25T07:57:19.154137Z",
     "iopub.status.busy": "2023-11-25T07:57:19.153943Z",
     "iopub.status.idle": "2023-11-25T07:58:01.067967Z",
     "shell.execute_reply": "2023-11-25T07:58:01.067432Z",
     "shell.execute_reply.started": "2023-11-25T07:57:19.154121Z"
    }
   },
   "outputs": [],
   "source": [
    "import txtai\n",
    "embeddings = txtai.Embeddings()\n",
    "embeddings.load(\"/home/jovyan/smirnov/our_indexes/all_videos\")"
   ]
  },
  {
   "cell_type": "code",
   "execution_count": 18,
   "id": "68091f42-ca8e-4c58-a6ea-f40f8a0fcf38",
   "metadata": {
    "execution": {
     "iopub.execute_input": "2023-11-25T08:50:03.041339Z",
     "iopub.status.busy": "2023-11-25T08:50:03.040633Z",
     "iopub.status.idle": "2023-11-25T08:50:03.319026Z",
     "shell.execute_reply": "2023-11-25T08:50:03.318441Z",
     "shell.execute_reply.started": "2023-11-25T08:50:03.041308Z"
    }
   },
   "outputs": [
    {
     "data": {
      "text/plain": [
       "[{'id': 'video_3626279',\n",
       "  'text': 'смотреть экстрасенсы битва сильнейших\\nэкстрасенсы битва сильнейших\\nэкстрасенсы битва сильнейших',\n",
       "  'score': 0.4111642891194302},\n",
       " {'id': 'video_3048626',\n",
       "  'text': 'экстрасенсы битва сильнейших/ битва сильнейших экстрасенсов 2023\\nбитва сильнейших экстрасенсов 2023',\n",
       "  'score': 0.4007101031847948},\n",
       " {'id': 'video_727356',\n",
       "  'text': 'смотреть экстрасенсы битва сильнейших\\nэкстрасенсы битва сильнейших\\nэкстрасенсы битва сильнейших смот',\n",
       "  'score': 0.4007101031847948},\n",
       " {'id': 'video_18943317',\n",
       "  'text': 'битва сильнейших',\n",
       "  'score': 0.3991782967750335},\n",
       " {'id': 'video_17799854',\n",
       "  'text': 'Битва сильнейших',\n",
       "  'score': 0.3991782967750335},\n",
       " {'id': 'video_19455333',\n",
       "  'text': 'Битва сильнейших',\n",
       "  'score': 0.3991782967750335},\n",
       " {'id': 'video_6906485',\n",
       "  'text': 'битва сильнейших',\n",
       "  'score': 0.3991782967750335},\n",
       " {'id': 'video_18542502',\n",
       "  'text': 'Битва Сильнейших',\n",
       "  'score': 0.3991782967750335},\n",
       " {'id': 'video_12043786',\n",
       "  'text': 'Битва Сильнейших',\n",
       "  'score': 0.3991782967750335},\n",
       " {'id': 'video_2972601',\n",
       "  'text': 'битва сильнейших',\n",
       "  'score': 0.3991782967750335}]"
      ]
     },
     "execution_count": 18,
     "metadata": {},
     "output_type": "execute_result"
    }
   ],
   "source": [
    "embeddings.search('битва сильнейших',10)"
   ]
  },
  {
   "cell_type": "code",
   "execution_count": 31,
   "id": "80221a68-dece-4a73-a2bb-6aeb218401cc",
   "metadata": {
    "execution": {
     "iopub.execute_input": "2023-11-25T06:20:40.214934Z",
     "iopub.status.busy": "2023-11-25T06:20:40.214729Z",
     "iopub.status.idle": "2023-11-25T06:20:40.584999Z",
     "shell.execute_reply": "2023-11-25T06:20:40.584551Z",
     "shell.execute_reply.started": "2023-11-25T06:20:40.214917Z"
    }
   },
   "outputs": [
    {
     "data": {
      "text/plain": [
       "[{'id': 'video_25673767',\n",
       "  'text': 'Экстрасенсы. Битва сильнейших 4 выпуск (2023)',\n",
       "  'v_pub_datetime': '2023-04-10 04:50:48',\n",
       "  'score': 0.5570344481139637},\n",
       " {'id': 'video_3366872',\n",
       "  'text': 'Экстрасенсы. Битва сильнейших, 4 выпуск',\n",
       "  'v_pub_datetime': '2023-04-22 18:00:14',\n",
       "  'score': 0.5270358005716969},\n",
       " {'id': 'video_5092245',\n",
       "  'text': 'Экстрасенсы. Битва Сильнейших 2023 ВЫПУСК 1.04.2023',\n",
       "  'v_pub_datetime': '2023-04-03 08:00:13',\n",
       "  'score': 0.501986969676225},\n",
       " {'id': 'video_9287735',\n",
       "  'text': 'Экстрасенсы. Битва Сильнейших 4 выпуск 22 апреля 2023',\n",
       "  'v_pub_datetime': '2023-04-21 11:21:03',\n",
       "  'score': 0.49888991489075984},\n",
       " {'id': 'video_17866921',\n",
       "  'text': 'Экстрасенсы. Битва сильнейших 22 выпуск 4 ноября 2023',\n",
       "  'v_pub_datetime': None,\n",
       "  'score': 0.49888991489075984}]"
      ]
     },
     "execution_count": 31,
     "metadata": {},
     "output_type": "execute_result"
    }
   ],
   "source": [
    "q = 'Экстрасенсы. Битва сильнейших, 4 выпуск 2023'\n",
    "limit=5\n",
    "embeddings.search(f'select id, text, v_pub_datetime, score from txtai where similar (\"{q}\") \\\n",
    "order by score desc, v_pub_datetime desc \\\n",
    "limit {limit}')"
   ]
  },
  {
   "cell_type": "code",
   "execution_count": 75,
   "id": "73a53bc6-558f-45e7-a711-ccf8639ad410",
   "metadata": {
    "execution": {
     "iopub.execute_input": "2023-11-25T07:14:36.116562Z",
     "iopub.status.busy": "2023-11-25T07:14:36.116329Z",
     "iopub.status.idle": "2023-11-25T07:24:41.046115Z",
     "shell.execute_reply": "2023-11-25T07:24:41.045613Z",
     "shell.execute_reply.started": "2023-11-25T07:14:36.116544Z"
    }
   },
   "outputs": [],
   "source": [
    "import re\n",
    "submission={\"query\" :[], \"video_id\":[]}\n",
    "for q in test['query']:\n",
    "    #print(q)\n",
    "    q_clean=re.sub(\"[^а-яА-ЯЁё0-9a-zA-Z ]\",\"\",q)\n",
    "    #print(q)\n",
    "    limit=5\n",
    "    res = embeddings.search(f'select id, text, v_pub_datetime, score from txtai where similar (\"{q_clean}\") \\\n",
    "    order by score desc, v_pub_datetime desc \\\n",
    "    limit {limit}')\n",
    "    submission['query'] +=[q]*len(res)\n",
    "    submission['video_id'] +=(list(map(lambda x: x['id'],res)))\n",
    "    #print(res)"
   ]
  },
  {
   "cell_type": "code",
   "execution_count": 7,
   "id": "ec1c3518-4c29-4af1-afe3-d455ae60887e",
   "metadata": {
    "execution": {
     "iopub.execute_input": "2023-11-25T08:17:31.159358Z",
     "iopub.status.busy": "2023-11-25T08:17:31.159153Z",
     "iopub.status.idle": "2023-11-25T08:17:31.163641Z",
     "shell.execute_reply": "2023-11-25T08:17:31.163061Z",
     "shell.execute_reply.started": "2023-11-25T08:17:31.159338Z"
    }
   },
   "outputs": [
    {
     "data": {
      "text/plain": [
       "2"
      ]
     },
     "execution_count": 7,
     "metadata": {},
     "output_type": "execute_result"
    }
   ],
   "source": []
  },
  {
   "cell_type": "code",
   "execution_count": 19,
   "id": "edd9e95d-d73e-43fc-8119-d0b556961483",
   "metadata": {
    "execution": {
     "iopub.execute_input": "2023-11-25T10:12:25.102086Z",
     "iopub.status.busy": "2023-11-25T10:12:25.101600Z",
     "iopub.status.idle": "2023-11-25T10:12:26.311338Z",
     "shell.execute_reply": "2023-11-25T10:12:26.310594Z",
     "shell.execute_reply.started": "2023-11-25T10:12:25.102064Z"
    }
   },
   "outputs": [
    {
     "name": "stderr",
     "output_type": "stream",
     "text": [
      "[nltk_data] Downloading collection 'popular'\n",
      "[nltk_data]    | \n",
      "[nltk_data]    | Downloading package cmudict to\n",
      "[nltk_data]    |     /home/jovyan/nltk_data...\n",
      "[nltk_data]    |   Package cmudict is already up-to-date!\n",
      "[nltk_data]    | Downloading package gazetteers to\n",
      "[nltk_data]    |     /home/jovyan/nltk_data...\n",
      "[nltk_data]    |   Package gazetteers is already up-to-date!\n",
      "[nltk_data]    | Downloading package genesis to\n",
      "[nltk_data]    |     /home/jovyan/nltk_data...\n",
      "[nltk_data]    |   Package genesis is already up-to-date!\n",
      "[nltk_data]    | Downloading package gutenberg to\n",
      "[nltk_data]    |     /home/jovyan/nltk_data...\n",
      "[nltk_data]    |   Package gutenberg is already up-to-date!\n",
      "[nltk_data]    | Downloading package inaugural to\n",
      "[nltk_data]    |     /home/jovyan/nltk_data...\n",
      "[nltk_data]    |   Package inaugural is already up-to-date!\n",
      "[nltk_data]    | Downloading package movie_reviews to\n",
      "[nltk_data]    |     /home/jovyan/nltk_data...\n",
      "[nltk_data]    |   Package movie_reviews is already up-to-date!\n",
      "[nltk_data]    | Downloading package names to\n",
      "[nltk_data]    |     /home/jovyan/nltk_data...\n",
      "[nltk_data]    |   Package names is already up-to-date!\n",
      "[nltk_data]    | Downloading package shakespeare to\n",
      "[nltk_data]    |     /home/jovyan/nltk_data...\n",
      "[nltk_data]    |   Package shakespeare is already up-to-date!\n",
      "[nltk_data]    | Downloading package stopwords to\n",
      "[nltk_data]    |     /home/jovyan/nltk_data...\n",
      "[nltk_data]    |   Package stopwords is already up-to-date!\n",
      "[nltk_data]    | Downloading package treebank to\n",
      "[nltk_data]    |     /home/jovyan/nltk_data...\n",
      "[nltk_data]    |   Package treebank is already up-to-date!\n",
      "[nltk_data]    | Downloading package twitter_samples to\n",
      "[nltk_data]    |     /home/jovyan/nltk_data...\n",
      "[nltk_data]    |   Package twitter_samples is already up-to-date!\n",
      "[nltk_data]    | Downloading package omw to /home/jovyan/nltk_data...\n",
      "[nltk_data]    |   Package omw is already up-to-date!\n",
      "[nltk_data]    | Downloading package omw-1.4 to\n",
      "[nltk_data]    |     /home/jovyan/nltk_data...\n",
      "[nltk_data]    |   Package omw-1.4 is already up-to-date!\n",
      "[nltk_data]    | Downloading package wordnet to\n",
      "[nltk_data]    |     /home/jovyan/nltk_data...\n",
      "[nltk_data]    |   Package wordnet is already up-to-date!\n",
      "[nltk_data]    | Downloading package wordnet2021 to\n",
      "[nltk_data]    |     /home/jovyan/nltk_data...\n",
      "[nltk_data]    |   Package wordnet2021 is already up-to-date!\n",
      "[nltk_data]    | Downloading package wordnet31 to\n",
      "[nltk_data]    |     /home/jovyan/nltk_data...\n",
      "[nltk_data]    |   Package wordnet31 is already up-to-date!\n",
      "[nltk_data]    | Downloading package wordnet_ic to\n",
      "[nltk_data]    |     /home/jovyan/nltk_data...\n",
      "[nltk_data]    |   Package wordnet_ic is already up-to-date!\n",
      "[nltk_data]    | Downloading package words to\n",
      "[nltk_data]    |     /home/jovyan/nltk_data...\n",
      "[nltk_data]    |   Package words is already up-to-date!\n",
      "[nltk_data]    | Downloading package maxent_ne_chunker to\n",
      "[nltk_data]    |     /home/jovyan/nltk_data...\n",
      "[nltk_data]    |   Package maxent_ne_chunker is already up-to-date!\n",
      "[nltk_data]    | Downloading package punkt to\n",
      "[nltk_data]    |     /home/jovyan/nltk_data...\n",
      "[nltk_data]    |   Package punkt is already up-to-date!\n",
      "[nltk_data]    | Downloading package snowball_data to\n",
      "[nltk_data]    |     /home/jovyan/nltk_data...\n",
      "[nltk_data]    |   Package snowball_data is already up-to-date!\n",
      "[nltk_data]    | Downloading package averaged_perceptron_tagger to\n",
      "[nltk_data]    |     /home/jovyan/nltk_data...\n",
      "[nltk_data]    |   Package averaged_perceptron_tagger is already up-\n",
      "[nltk_data]    |       to-date!\n",
      "[nltk_data]    | \n",
      "[nltk_data]  Done downloading collection popular\n"
     ]
    }
   ],
   "source": [
    "import nltk \n",
    "from sklearn.feature_extraction.text import CountVectorizer, TfidfVectorizer\n",
    "import matplotlib.pyplot as plt\n",
    "from wordcloud import WordCloud\n",
    "from nltk.corpus import stopwords\n",
    "from nltk.stem import WordNetLemmatizer\n",
    "nltk.download('popular')\n",
    "# Очистка текста (пример функции)\n",
    "def clean_text(text):\n",
    "    # Удаление специальных символов и приведение к нижнему регистру\n",
    "    text = re.sub(r'[^\\w\\s]', '', text.lower())\n",
    "    # Токенизация\n",
    "    tokens = nltk.word_tokenize(text)\n",
    "    # Удаление стоп-слов\n",
    "    tokens = [word for word in tokens if word not in stopwords.words('russian')]\n",
    "    # Лемматизация\n",
    "    lemmatizer = WordNetLemmatizer()\n",
    "    tokens = [lemmatizer.lemmatize(word) for word in tokens]\n",
    "    return ' '.join(tokens)"
   ]
  },
  {
   "cell_type": "code",
   "execution_count": 20,
   "id": "9c5ab463-61e8-4c38-91a8-56c110537e4a",
   "metadata": {
    "execution": {
     "iopub.execute_input": "2023-11-25T10:12:48.385403Z",
     "iopub.status.busy": "2023-11-25T10:12:48.384807Z",
     "iopub.status.idle": "2023-11-25T10:24:39.994071Z",
     "shell.execute_reply": "2023-11-25T10:24:39.993106Z",
     "shell.execute_reply.started": "2023-11-25T10:12:48.385382Z"
    }
   },
   "outputs": [],
   "source": [
    "import re\n",
    "submission = {\"query\": [], \"video_id\": []}\n",
    "limit = 5  # Fixed number of results per query\n",
    "for q in test['query']:\n",
    "    q_clean = clean_text(re.sub(\"[^а-яА-ЯЁё0-9a-zA-Z ]\", \"\", q))\n",
    "\n",
    "    # Execute search\n",
    "    res = embeddings.search(f'select id, text, v_pub_datetime, score from txtai where similar (\"{q_clean}\") \\\n",
    "    order by score desc, v_pub_datetime desc \\\n",
    "    limit {limit}')\n",
    "\n",
    "    # If there are results, extend the submission dictionary with these results\n",
    "    submission['query'] += [q] * 5\n",
    "    submission['video_id'] += [x['id'] for x in res]\n",
    "\n",
    "    # If the results are fewer than the limit, fill the remaining slots with empty values\n",
    "    if len(res) < limit:\n",
    "        submission['video_id'] += [None] * (limit - len(res))"
   ]
  },
  {
   "cell_type": "code",
   "execution_count": 21,
   "id": "bc6d5115-f729-4b9e-adcc-3a8ed4d77c3a",
   "metadata": {
    "execution": {
     "iopub.execute_input": "2023-11-25T10:34:36.277847Z",
     "iopub.status.busy": "2023-11-25T10:34:36.277610Z",
     "iopub.status.idle": "2023-11-25T10:34:36.282652Z",
     "shell.execute_reply": "2023-11-25T10:34:36.281841Z",
     "shell.execute_reply.started": "2023-11-25T10:34:36.277830Z"
    }
   },
   "outputs": [
    {
     "data": {
      "text/plain": [
       "10000"
      ]
     },
     "execution_count": 21,
     "metadata": {},
     "output_type": "execute_result"
    }
   ],
   "source": [
    "len(submission['query'])"
   ]
  },
  {
   "cell_type": "code",
   "execution_count": 9,
   "id": "d88ca60d-3d3b-4727-a773-732314c2bd07",
   "metadata": {
    "execution": {
     "iopub.execute_input": "2023-11-25T08:17:55.578868Z",
     "iopub.status.busy": "2023-11-25T08:17:55.578551Z",
     "iopub.status.idle": "2023-11-25T08:17:55.583775Z",
     "shell.execute_reply": "2023-11-25T08:17:55.583114Z",
     "shell.execute_reply.started": "2023-11-25T08:17:55.578846Z"
    }
   },
   "outputs": [],
   "source": [
    "import pandas as pd\n",
    "pd.set_option('display.max_rows', 100)\n",
    "pd.set_option('display.max_columns', 100)\n",
    "pd.set_option('display.max_colwidth', 2000)"
   ]
  },
  {
   "cell_type": "code",
   "execution_count": 10,
   "id": "07b1a029-896d-450f-abdc-b5876c573dda",
   "metadata": {
    "execution": {
     "iopub.execute_input": "2023-11-25T08:17:58.338866Z",
     "iopub.status.busy": "2023-11-25T08:17:58.338540Z",
     "iopub.status.idle": "2023-11-25T08:17:58.364052Z",
     "shell.execute_reply": "2023-11-25T08:17:58.349728Z",
     "shell.execute_reply.started": "2023-11-25T08:17:58.338845Z"
    }
   },
   "outputs": [
    {
     "data": {
      "text/html": [
       "<div>\n",
       "<style scoped>\n",
       "    .dataframe tbody tr th:only-of-type {\n",
       "        vertical-align: middle;\n",
       "    }\n",
       "\n",
       "    .dataframe tbody tr th {\n",
       "        vertical-align: top;\n",
       "    }\n",
       "\n",
       "    .dataframe thead th {\n",
       "        text-align: right;\n",
       "    }\n",
       "</style>\n",
       "<table border=\"1\" class=\"dataframe\">\n",
       "  <thead>\n",
       "    <tr style=\"text-align: right;\">\n",
       "      <th></th>\n",
       "      <th>query</th>\n",
       "      <th>video_id</th>\n",
       "    </tr>\n",
       "  </thead>\n",
       "  <tbody>\n",
       "    <tr>\n",
       "      <th>0</th>\n",
       "      <td>Битва сильнейших экстрасенсов 2023 смотреть | Экстрасенсы битва сильнейших 35, 36 серия</td>\n",
       "      <td>video_13417135</td>\n",
       "    </tr>\n",
       "    <tr>\n",
       "      <th>1</th>\n",
       "      <td>Битва сильнейших экстрасенсов 2023 смотреть | Экстрасенсы битва сильнейших 35, 36 серия</td>\n",
       "      <td>video_3048626</td>\n",
       "    </tr>\n",
       "    <tr>\n",
       "      <th>2</th>\n",
       "      <td>Битва сильнейших экстрасенсов 2023 смотреть | Экстрасенсы битва сильнейших 35, 36 серия</td>\n",
       "      <td>video_3626279</td>\n",
       "    </tr>\n",
       "    <tr>\n",
       "      <th>3</th>\n",
       "      <td>Битва сильнейших экстрасенсов 2023 смотреть | Экстрасенсы битва сильнейших 35, 36 серия</td>\n",
       "      <td>video_24627118</td>\n",
       "    </tr>\n",
       "    <tr>\n",
       "      <th>4</th>\n",
       "      <td>Битва сильнейших экстрасенсов 2023 смотреть | Экстрасенсы битва сильнейших 35, 36 серия</td>\n",
       "      <td>video_12827624</td>\n",
       "    </tr>\n",
       "    <tr>\n",
       "      <th>5</th>\n",
       "      <td>битва сильнейших экстрасенсов 2023\\nбитва сильнейших экстрасенсов 2023 смотреть</td>\n",
       "      <td>video_33212734</td>\n",
       "    </tr>\n",
       "    <tr>\n",
       "      <th>6</th>\n",
       "      <td>битва сильнейших экстрасенсов 2023\\nбитва сильнейших экстрасенсов 2023 смотреть</td>\n",
       "      <td>video_29499323</td>\n",
       "    </tr>\n",
       "    <tr>\n",
       "      <th>7</th>\n",
       "      <td>битва сильнейших экстрасенсов 2023\\nбитва сильнейших экстрасенсов 2023 смотреть</td>\n",
       "      <td>video_9558708</td>\n",
       "    </tr>\n",
       "    <tr>\n",
       "      <th>8</th>\n",
       "      <td>битва сильнейших экстрасенсов 2023\\nбитва сильнейших экстрасенсов 2023 смотреть</td>\n",
       "      <td>video_11083436</td>\n",
       "    </tr>\n",
       "    <tr>\n",
       "      <th>9</th>\n",
       "      <td>битва сильнейших экстрасенсов 2023\\nбитва сильнейших экстрасенсов 2023 смотреть</td>\n",
       "      <td>video_7205638</td>\n",
       "    </tr>\n",
       "  </tbody>\n",
       "</table>\n",
       "</div>"
      ],
      "text/plain": [
       "                                                                                     query  \\\n",
       "0  Битва сильнейших экстрасенсов 2023 смотреть | Экстрасенсы битва сильнейших 35, 36 серия   \n",
       "1  Битва сильнейших экстрасенсов 2023 смотреть | Экстрасенсы битва сильнейших 35, 36 серия   \n",
       "2  Битва сильнейших экстрасенсов 2023 смотреть | Экстрасенсы битва сильнейших 35, 36 серия   \n",
       "3  Битва сильнейших экстрасенсов 2023 смотреть | Экстрасенсы битва сильнейших 35, 36 серия   \n",
       "4  Битва сильнейших экстрасенсов 2023 смотреть | Экстрасенсы битва сильнейших 35, 36 серия   \n",
       "5          битва сильнейших экстрасенсов 2023\\nбитва сильнейших экстрасенсов 2023 смотреть   \n",
       "6          битва сильнейших экстрасенсов 2023\\nбитва сильнейших экстрасенсов 2023 смотреть   \n",
       "7          битва сильнейших экстрасенсов 2023\\nбитва сильнейших экстрасенсов 2023 смотреть   \n",
       "8          битва сильнейших экстрасенсов 2023\\nбитва сильнейших экстрасенсов 2023 смотреть   \n",
       "9          битва сильнейших экстрасенсов 2023\\nбитва сильнейших экстрасенсов 2023 смотреть   \n",
       "\n",
       "         video_id  \n",
       "0  video_13417135  \n",
       "1   video_3048626  \n",
       "2   video_3626279  \n",
       "3  video_24627118  \n",
       "4  video_12827624  \n",
       "5  video_33212734  \n",
       "6  video_29499323  \n",
       "7   video_9558708  \n",
       "8  video_11083436  \n",
       "9   video_7205638  "
      ]
     },
     "execution_count": 10,
     "metadata": {},
     "output_type": "execute_result"
    }
   ],
   "source": [
    "sub_df = pd.DataFrame(submission)\n",
    "sub_df.head(10)"
   ]
  },
  {
   "cell_type": "code",
   "execution_count": 22,
   "id": "8bd6cc3c-27af-434b-a086-acc9d3a6f7aa",
   "metadata": {
    "execution": {
     "iopub.execute_input": "2023-11-25T10:35:01.121219Z",
     "iopub.status.busy": "2023-11-25T10:35:01.120584Z",
     "iopub.status.idle": "2023-11-25T10:35:01.156796Z",
     "shell.execute_reply": "2023-11-25T10:35:01.155910Z",
     "shell.execute_reply.started": "2023-11-25T10:35:01.121187Z"
    }
   },
   "outputs": [],
   "source": [
    "sub_df.to_csv('/home/jovyan/smirnov/our_submissions/txtai_all_submission_04_stop_words.csv',index=False)"
   ]
  },
  {
   "cell_type": "code",
   "execution_count": null,
   "id": "981773b3-d5ea-45e5-bb96-915903618bd3",
   "metadata": {},
   "outputs": [],
   "source": []
  }
 ],
 "metadata": {
  "kernelspec": {
   "display_name": "Python 3 (ipykernel)",
   "language": "python",
   "name": "python3"
  },
  "language_info": {
   "codemirror_mode": {
    "name": "ipython",
    "version": 3
   },
   "file_extension": ".py",
   "mimetype": "text/x-python",
   "name": "python",
   "nbconvert_exporter": "python",
   "pygments_lexer": "ipython3",
   "version": "3.11.6"
  }
 },
 "nbformat": 4,
 "nbformat_minor": 5
}
