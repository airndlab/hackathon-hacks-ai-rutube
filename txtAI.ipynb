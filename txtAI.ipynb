{
 "cells": [
  {
   "cell_type": "code",
   "execution_count": 57,
   "id": "da73203a-19f1-4c9a-8297-63e5dce67da0",
   "metadata": {
    "execution": {
     "iopub.execute_input": "2023-11-24T16:12:52.770178Z",
     "iopub.status.busy": "2023-11-24T16:12:52.769709Z",
     "iopub.status.idle": "2023-11-24T16:12:54.588243Z",
     "shell.execute_reply": "2023-11-24T16:12:54.587754Z",
     "shell.execute_reply.started": "2023-11-24T16:12:52.770160Z"
    }
   },
   "outputs": [],
   "source": [
    "import polars as pl\n",
    "\n",
    "df = pl.read_parquet('our_datasets/tv_videos.parquet')\n",
    "data = [(row['video_id'], {'text': row['video_title'], 'v_year_views':row['v_year_views'], 'v_pub_datetime': row['v_pub_datetime']}) for row in df.rows(named=True)]\n"
   ]
  },
  {
   "cell_type": "code",
   "execution_count": 58,
   "id": "2f5ccc81-b087-449e-a652-d05e4310708f",
   "metadata": {
    "execution": {
     "iopub.execute_input": "2023-11-24T16:13:04.818727Z",
     "iopub.status.busy": "2023-11-24T16:13:04.818331Z",
     "iopub.status.idle": "2023-11-24T16:37:43.442994Z",
     "shell.execute_reply": "2023-11-24T16:37:43.442526Z",
     "shell.execute_reply.started": "2023-11-24T16:13:04.818708Z"
    }
   },
   "outputs": [
    {
     "name": "stdout",
     "output_type": "stream",
     "text": [
      "{\n",
      "  \"backend\": \"faiss\",\n",
      "  \"build\": {\n",
      "    \"create\": \"2023-11-24T16:37:42Z\",\n",
      "    \"python\": \"3.11.6\",\n",
      "    \"settings\": {\n",
      "      \"components\": \"IVF2717,Flat\"\n",
      "    },\n",
      "    \"system\": \"Linux (x86_64)\",\n",
      "    \"txtai\": \"6.2.0\"\n",
      "  },\n",
      "  \"content\": true,\n",
      "  \"dimensions\": 384,\n",
      "  \"hybrid\": true,\n",
      "  \"objects\": true,\n",
      "  \"offset\": 461227,\n",
      "  \"path\": \"sentence-transformers/all-MiniLM-L6-v2\",\n",
      "  \"scoring\": {\n",
      "    \"method\": \"bm25\",\n",
      "    \"normalize\": true,\n",
      "    \"terms\": true\n",
      "  },\n",
      "  \"update\": \"2023-11-24T16:37:42Z\"\n",
      "}\n"
     ]
    }
   ],
   "source": [
    "import txtai\n",
    "\n",
    "emb = txtai.Embeddings(objects=True, content=True, hybrid=True)\n",
    "emb.index(data)\n",
    "emb.info()"
   ]
  },
  {
   "cell_type": "code",
   "execution_count": 118,
   "id": "25adeaa7-c601-445c-b9c1-14dff7598e3a",
   "metadata": {
    "execution": {
     "iopub.execute_input": "2023-11-24T17:38:38.469708Z",
     "iopub.status.busy": "2023-11-24T17:38:38.469211Z",
     "iopub.status.idle": "2023-11-24T17:38:38.493241Z",
     "shell.execute_reply": "2023-11-24T17:38:38.492787Z",
     "shell.execute_reply.started": "2023-11-24T17:38:38.469686Z"
    }
   },
   "outputs": [
    {
     "data": {
      "text/plain": [
       "[{'id': 'video_31811432',\n",
       "  'text': 'Дубай – наш второй дом',\n",
       "  'v_year_views': 0.0,\n",
       "  'v_pub_datetime': '2016-11-11 15:44:26',\n",
       "  'score': 0.578707391840374}]"
      ]
     },
     "execution_count": 118,
     "metadata": {},
     "output_type": "execute_result"
    }
   ],
   "source": [
    "query = 'дубай'\n",
    "min_score = 0.5\n",
    "limit = 10\n",
    "emb.search(f'select id, text, v_year_views, v_pub_datetime, score \\\n",
    "from txtai \\\n",
    "where similar(\"{query}\") \\\n",
    "and score >= {min_score} \\\n",
    "order by score desc \\\n",
    "limit {limit}')"
   ]
  },
  {
   "cell_type": "code",
   "execution_count": 81,
   "id": "c37835b7-8d91-4519-99b3-794ccd4d9f12",
   "metadata": {
    "execution": {
     "iopub.execute_input": "2023-11-24T16:52:40.556665Z",
     "iopub.status.busy": "2023-11-24T16:52:40.556069Z",
     "iopub.status.idle": "2023-11-24T16:52:40.579094Z",
     "shell.execute_reply": "2023-11-24T16:52:40.578603Z",
     "shell.execute_reply.started": "2023-11-24T16:52:40.556644Z"
    }
   },
   "outputs": [
    {
     "data": {
      "text/plain": [
       "[{'id': 'video_10083710', 'text': 'Дебби бу', 'score': 0.44027841091156006},\n",
       " {'id': 'video_8128654', 'text': 'Дебил', 'score': 0.4397616386413574},\n",
       " {'id': 'video_8429139', 'text': 'Дебил', 'score': 0.4397616386413574},\n",
       " {'id': 'video_9112957', 'text': 'Скуби-Ду', 'score': 0.43714338541030884},\n",
       " {'id': 'video_9109672', 'text': 'Скуби-Ду', 'score': 0.43714338541030884}]"
      ]
     },
     "execution_count": 81,
     "metadata": {},
     "output_type": "execute_result"
    }
   ],
   "source": [
    "emb.search('"
   ]
  },
  {
   "cell_type": "code",
   "execution_count": null,
   "id": "1f2706fb-4c17-407e-ae9c-200e05d024ed",
   "metadata": {},
   "outputs": [],
   "source": []
  }
 ],
 "metadata": {
  "kernelspec": {
   "display_name": "Python 3 (ipykernel)",
   "language": "python",
   "name": "python3"
  },
  "language_info": {
   "codemirror_mode": {
    "name": "ipython",
    "version": 3
   },
   "file_extension": ".py",
   "mimetype": "text/x-python",
   "name": "python",
   "nbconvert_exporter": "python",
   "pygments_lexer": "ipython3",
   "version": "3.11.6"
  }
 },
 "nbformat": 4,
 "nbformat_minor": 5
}
