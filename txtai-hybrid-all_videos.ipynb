{
 "cells": [
  {
   "cell_type": "markdown",
   "id": "e12e03b2-3f0e-4c31-8e51-b8e85c5284b9",
   "metadata": {},
   "source": [
    "# Получаем 5млн видео"
   ]
  },
  {
   "cell_type": "code",
   "execution_count": 1,
   "id": "7d927550-7e1e-4aa9-b326-4b9048dcb8aa",
   "metadata": {
    "execution": {
     "iopub.execute_input": "2023-11-25T08:35:00.039155Z",
     "iopub.status.busy": "2023-11-25T08:35:00.038260Z",
     "iopub.status.idle": "2023-11-25T08:35:17.482782Z",
     "shell.execute_reply": "2023-11-25T08:35:17.481985Z",
     "shell.execute_reply.started": "2023-11-25T08:35:00.039122Z"
    }
   },
   "outputs": [],
   "source": [
    "import polars as pl\n",
    "\n",
    "df = pl.read_parquet('our_datasets/all_videos.parquet', n_rows=5000000)\n",
    "data = [(row['video_id'], row['video_title']) for row in df.rows(named=True)]\n",
    "del df"
   ]
  },
  {
   "cell_type": "markdown",
   "id": "9d7f2849-eab2-4a4a-9814-bc6c0f66c56c",
   "metadata": {},
   "source": [
    "# "
   ]
  },
  {
   "cell_type": "code",
   "execution_count": null,
   "id": "49fe7147-9ed4-41e8-aa40-ba3a22faa158",
   "metadata": {
    "execution": {
     "iopub.execute_input": "2023-11-25T08:07:53.064017Z",
     "iopub.status.busy": "2023-11-25T08:07:53.063088Z"
    }
   },
   "outputs": [],
   "source": [
    "import txtai\n",
    "\n",
    "emb = txtai.Embeddings(hybrid=True)\n",
    "emb.index(data)\n",
    "del data\n",
    "emb.info()"
   ]
  },
  {
   "cell_type": "code",
   "execution_count": null,
   "id": "7a88fd58-c9e1-484c-a71e-b0091d49e17f",
   "metadata": {},
   "outputs": [],
   "source": []
  }
 ],
 "metadata": {
  "kernelspec": {
   "display_name": "Python 3 (ipykernel)",
   "language": "python",
   "name": "python3"
  },
  "language_info": {
   "codemirror_mode": {
    "name": "ipython",
    "version": 3
   },
   "file_extension": ".py",
   "mimetype": "text/x-python",
   "name": "python",
   "nbconvert_exporter": "python",
   "pygments_lexer": "ipython3",
   "version": "3.11.6"
  }
 },
 "nbformat": 4,
 "nbformat_minor": 5
}
