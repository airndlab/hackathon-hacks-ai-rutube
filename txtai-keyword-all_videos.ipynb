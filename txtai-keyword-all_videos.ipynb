{
 "cells": [
  {
   "cell_type": "markdown",
   "id": "6d6c6348-47eb-4801-8146-95364ac2fe7a",
   "metadata": {},
   "source": [
    "# Получаем все видео и делаем список (video_id, video_title, v_year_views, v_pub_datetime)"
   ]
  },
  {
   "cell_type": "code",
   "execution_count": 1,
   "id": "24fbc632-3c02-401d-927b-b3e478e6f021",
   "metadata": {
    "execution": {
     "iopub.execute_input": "2023-11-24T18:09:31.225830Z",
     "iopub.status.busy": "2023-11-24T18:09:31.225362Z",
     "iopub.status.idle": "2023-11-24T18:11:46.166949Z",
     "shell.execute_reply": "2023-11-24T18:11:46.166432Z",
     "shell.execute_reply.started": "2023-11-24T18:09:31.225810Z"
    }
   },
   "outputs": [],
   "source": [
    "import polars as pl\n",
    "\n",
    "df = pl.read_parquet('our_datasets/all_videos.parquet')\n",
    "data = [(row['video_id'], {'text': row['video_title'], 'v_year_views':row['v_year_views'], 'v_pub_datetime': row['v_pub_datetime']}) for row in df.rows(named=True)]\n"
   ]
  },
  {
   "cell_type": "code",
   "execution_count": 3,
   "id": "ed6b6b56-ff00-49e5-9b5e-21479db55db9",
   "metadata": {
    "execution": {
     "iopub.execute_input": "2023-11-24T18:13:07.699831Z",
     "iopub.status.busy": "2023-11-24T18:13:07.699338Z",
     "iopub.status.idle": "2023-11-24T18:13:08.026146Z",
     "shell.execute_reply": "2023-11-24T18:13:08.025410Z",
     "shell.execute_reply.started": "2023-11-24T18:13:07.699811Z"
    }
   },
   "outputs": [],
   "source": [
    "del df"
   ]
  },
  {
   "cell_type": "code",
   "execution_count": 4,
   "id": "cbcf5377-fcfe-4cbf-aeb8-aa18f2d352fc",
   "metadata": {
    "execution": {
     "iopub.execute_input": "2023-11-24T18:13:29.446662Z",
     "iopub.status.busy": "2023-11-24T18:13:29.446181Z",
     "iopub.status.idle": "2023-11-24T18:13:34.451687Z",
     "shell.execute_reply": "2023-11-24T18:13:34.451212Z",
     "shell.execute_reply.started": "2023-11-24T18:13:29.446642Z"
    }
   },
   "outputs": [
    {
     "data": {
      "text/plain": [
       "3088"
      ]
     },
     "execution_count": 4,
     "metadata": {},
     "output_type": "execute_result"
    }
   ],
   "source": [
    "import gc\n",
    "gc.collect()"
   ]
  },
  {
   "cell_type": "markdown",
   "id": "69db7bc3-21ac-46fb-952c-2a2b6ae98104",
   "metadata": {},
   "source": [
    "# Создаем Embeddings с контентом и делаем его keyword, индексируем данными (около 45 минут)"
   ]
  },
  {
   "cell_type": "code",
   "execution_count": 5,
   "id": "22b968f1-5be3-4802-bdee-a04398422520",
   "metadata": {
    "execution": {
     "iopub.execute_input": "2023-11-24T18:13:43.152957Z",
     "iopub.status.busy": "2023-11-24T18:13:43.152362Z",
     "iopub.status.idle": "2023-11-24T18:53:32.516322Z",
     "shell.execute_reply": "2023-11-24T18:53:32.515789Z",
     "shell.execute_reply.started": "2023-11-24T18:13:43.152935Z"
    }
   },
   "outputs": [
    {
     "name": "stdout",
     "output_type": "stream",
     "text": [
      "{\n",
      "  \"content\": true,\n",
      "  \"keyword\": true,\n",
      "  \"offset\": 34404396,\n",
      "  \"scoring\": {\n",
      "    \"method\": \"bm25\",\n",
      "    \"normalize\": true,\n",
      "    \"terms\": true\n",
      "  }\n",
      "}\n"
     ]
    }
   ],
   "source": [
    "import txtai\n",
    "\n",
    "emb = txtai.Embeddings(content=True, keyword=True)\n",
    "emb.index(data)\n",
    "emb.info()"
   ]
  },
  {
   "cell_type": "code",
   "execution_count": 12,
   "id": "12cb27d3-0863-4f6c-86b6-7b06835c2ae6",
   "metadata": {
    "execution": {
     "iopub.execute_input": "2023-11-24T19:11:51.357381Z",
     "iopub.status.busy": "2023-11-24T19:11:51.357023Z",
     "iopub.status.idle": "2023-11-24T19:11:58.486476Z",
     "shell.execute_reply": "2023-11-24T19:11:58.486023Z",
     "shell.execute_reply.started": "2023-11-24T19:11:51.357362Z"
    }
   },
   "outputs": [
    {
     "data": {
      "text/plain": [
       "2"
      ]
     },
     "execution_count": 12,
     "metadata": {},
     "output_type": "execute_result"
    }
   ],
   "source": [
    "del data\n",
    "gc.collect()"
   ]
  },
  {
   "cell_type": "markdown",
   "id": "da2012ff-1030-4841-9ef4-3c9ca1debf4a",
   "metadata": {},
   "source": [
    "# Индекс лучше сохранить"
   ]
  },
  {
   "cell_type": "code",
   "execution_count": 13,
   "id": "dd6d1eda-855a-4388-a1bf-147cd4fba261",
   "metadata": {
    "execution": {
     "iopub.execute_input": "2023-11-24T19:12:01.102326Z",
     "iopub.status.busy": "2023-11-24T19:12:01.101848Z",
     "iopub.status.idle": "2023-11-24T19:12:01.104691Z",
     "shell.execute_reply": "2023-11-24T19:12:01.104243Z",
     "shell.execute_reply.started": "2023-11-24T19:12:01.102308Z"
    }
   },
   "outputs": [],
   "source": [
    "#emb.save('our_indexes/all_videos')"
   ]
  },
  {
   "cell_type": "code",
   "execution_count": 2,
   "id": "e90f61d9-2b1a-446e-9329-bc1aa1de1fbe",
   "metadata": {
    "execution": {
     "iopub.execute_input": "2023-11-25T10:49:46.833818Z",
     "iopub.status.busy": "2023-11-25T10:49:46.833389Z",
     "iopub.status.idle": "2023-11-25T10:51:01.036677Z",
     "shell.execute_reply": "2023-11-25T10:51:01.035755Z",
     "shell.execute_reply.started": "2023-11-25T10:49:46.833794Z"
    }
   },
   "outputs": [],
   "source": [
    "import txtai\n",
    "emb = txtai.Embeddings()\n",
    "emb.load('our_indexes/all_videos')"
   ]
  },
  {
   "cell_type": "markdown",
   "id": "5c56fe47-d5a7-4dd0-becf-a4e89770d745",
   "metadata": {},
   "source": [
    "# Поиск с высшим score и свежей датой"
   ]
  },
  {
   "cell_type": "code",
   "execution_count": 3,
   "id": "634b0c91-3fe9-4c28-b57f-0776d9b8385e",
   "metadata": {
    "execution": {
     "iopub.execute_input": "2023-11-25T10:52:31.211439Z",
     "iopub.status.busy": "2023-11-25T10:52:31.210256Z",
     "iopub.status.idle": "2023-11-25T10:52:32.423150Z",
     "shell.execute_reply": "2023-11-25T10:52:32.422236Z",
     "shell.execute_reply.started": "2023-11-25T10:52:31.211400Z"
    }
   },
   "outputs": [
    {
     "data": {
      "text/plain": [
       "[{'id': 'video_32603146',\n",
       "  'text': 'Дом – ДОМ-2',\n",
       "  'v_year_views': 0.0,\n",
       "  'v_pub_datetime': '2016-11-03 15:29:17',\n",
       "  'score': 0.2634873735133661},\n",
       " {'id': 'video_23528371',\n",
       "  'text': 'Дом-2 Гимн Дом-2',\n",
       "  'v_year_views': 2.0,\n",
       "  'v_pub_datetime': '2023-08-03 09:39:08',\n",
       "  'score': 0.2611957032412765},\n",
       " {'id': 'video_18536331',\n",
       "  'text': 'Дом-2: \"Дом-2\" - болото!',\n",
       "  'v_year_views': 415.0,\n",
       "  'v_pub_datetime': '2020-08-12 11:36:00',\n",
       "  'score': 0.2611957032412765},\n",
       " {'id': 'video_4451472',\n",
       "  'text': 'Дом-2: Японский дом-2',\n",
       "  'v_year_views': 6.0,\n",
       "  'v_pub_datetime': '2017-03-16 22:04:22',\n",
       "  'score': 0.2611957032412765},\n",
       " {'id': 'video_6212945',\n",
       "  'text': 'Дом-2: \"Дом-2 в космосе\"',\n",
       "  'v_year_views': 2.0,\n",
       "  'v_pub_datetime': '2017-04-13 21:05:17',\n",
       "  'score': 0.25105029841909343},\n",
       " {'id': 'video_31750941',\n",
       "  'text': 'Дом-2: Анонс Дом-2 Live',\n",
       "  'v_year_views': 13.0,\n",
       "  'v_pub_datetime': '2016-10-25 07:38:35',\n",
       "  'score': 0.25105029841909343},\n",
       " {'id': 'video_30150801',\n",
       "  'text': 'Дом-2: Это Дом 2, детка!',\n",
       "  'v_year_views': 5.0,\n",
       "  'v_pub_datetime': '2016-09-19 16:00:18',\n",
       "  'score': 0.25105029841909343},\n",
       " {'id': 'video_24149152',\n",
       "  'text': 'Последние новости Дом 2 Сегодня 24.12.2022 г. дом 2 Драка в дом 2 Сплетни дом 2 Новости дом 2',\n",
       "  'v_year_views': None,\n",
       "  'v_pub_datetime': None,\n",
       "  'score': 0.2505178200857497},\n",
       " {'id': 'video_26100629',\n",
       "  'text': 'Последние новости Дом 2 Сегодня 18.12.2022 г. дом 2 Драка в дом 2 Сплетни дом 2 Новости дом 2',\n",
       "  'v_year_views': None,\n",
       "  'v_pub_datetime': None,\n",
       "  'score': 0.2505178200857497},\n",
       " {'id': 'video_30158230',\n",
       "  'text': 'ДОМ-2 Новости. Участникам ДОМ 2 перестали платить. ДОМ-2, ТНТ',\n",
       "  'v_year_views': None,\n",
       "  'v_pub_datetime': None,\n",
       "  'score': 0.24650377733182963}]"
      ]
     },
     "execution_count": 3,
     "metadata": {},
     "output_type": "execute_result"
    }
   ],
   "source": [
    "query = 'дом 2'\n",
    "limit = 10\n",
    "emb.search(f'select id, text, v_year_views, v_pub_datetime, score \\\n",
    "from txtai where similar(\"{query}\") \\\n",
    "order by score desc, v_pub_datetime desc \\\n",
    "limit {limit}')"
   ]
  },
  {
   "cell_type": "code",
   "execution_count": 47,
   "id": "0499d838-78b5-49b1-8e68-2747fea8083d",
   "metadata": {},
   "outputs": [],
   "source": [
    "from sklearn.metrics import ndcg_score"
   ]
  },
  {
   "cell_type": "code",
   "execution_count": 50,
   "id": "221a4dc3-5859-43cc-b7b2-a5a78abf4272",
   "metadata": {},
   "outputs": [
    {
     "data": {
      "text/html": [
       "<div><style>\n",
       ".dataframe > thead > tr > th,\n",
       ".dataframe > tbody > tr > td {\n",
       "  text-align: right;\n",
       "  white-space: pre-wrap;\n",
       "}\n",
       "</style>\n",
       "<small>shape: (84_754, 4)</small><table border=\"1\" class=\"dataframe\"><thead><tr><th>query</th><th>video_id</th><th>video_title</th><th>count</th></tr><tr><td>str</td><td>str</td><td>str</td><td>u32</td></tr></thead><tbody><tr><td>&quot; channel296464…</td><td>&quot;video_8845225&quot;</td><td>&quot;Отдыхает разум…</td><td>1873</td></tr><tr><td>&quot; channel296464…</td><td>&quot;video_30032971…</td><td>&quot;Thai Ridgeback…</td><td>6</td></tr><tr><td>&quot; Битва сильней…</td><td>&quot;video_4414305&quot;</td><td>&quot;Экстрасенсы. Б…</td><td>24</td></tr><tr><td>&quot; Битва сильней…</td><td>&quot;video_25036288…</td><td>&quot;Экстрасенсы. Б…</td><td>23</td></tr><tr><td>&quot; Битва сильней…</td><td>&quot;video_10854637…</td><td>&quot;Экстрасенсы. Б…</td><td>23</td></tr><tr><td>&quot; Битва сильней…</td><td>&quot;video_18764678…</td><td>&quot;Экстрасенсы. Б…</td><td>20</td></tr><tr><td>&quot; Битва сильней…</td><td>&quot;video_2599212&quot;</td><td>&quot;Экстрасенсы. Б…</td><td>19</td></tr><tr><td>&quot; Битва сильней…</td><td>&quot;video_31312854…</td><td>&quot;Экстрасенсы. Б…</td><td>17</td></tr><tr><td>&quot; Битва сильней…</td><td>&quot;video_25347986…</td><td>&quot;Экстрасенсы. Б…</td><td>16</td></tr><tr><td>&quot; Битва сильней…</td><td>&quot;video_21054236…</td><td>&quot;Экстрасенсы. Б…</td><td>16</td></tr><tr><td>&quot; Битва сильней…</td><td>&quot;video_28304053…</td><td>&quot;Экстрасенсы. Б…</td><td>16</td></tr><tr><td>&quot; Битва сильней…</td><td>&quot;video_3011899&quot;</td><td>&quot;Экстрасенсы. Б…</td><td>16</td></tr><tr><td>&hellip;</td><td>&hellip;</td><td>&hellip;</td><td>&hellip;</td></tr><tr><td>&quot;ярче звёзд&quot;</td><td>&quot;video_24158559…</td><td>&quot;Перевоплощение…</td><td>2</td></tr><tr><td>&quot;ярче звёзд&quot;</td><td>&quot;video_4057370&quot;</td><td>&quot;Перевоплощение…</td><td>2</td></tr><tr><td>&quot;ярче звёзд&quot;</td><td>&quot;video_10413160…</td><td>&quot;Перевоплощение…</td><td>1</td></tr><tr><td>&quot;ярче звёзд&quot;</td><td>&quot;video_25586265…</td><td>&quot;Ярче звезд 14 …</td><td>1</td></tr><tr><td>&quot;ярче звёзд&quot;</td><td>&quot;video_7453777&quot;</td><td>&quot;Ярче звезд 7 о…</td><td>1</td></tr><tr><td>&quot;ярче звёзд&quot;</td><td>&quot;video_28322892…</td><td>&quot;Перевоплощение…</td><td>1</td></tr><tr><td>&quot;ярче звёзд&quot;</td><td>&quot;video_31309326…</td><td>&quot;Перевоплощение…</td><td>1</td></tr><tr><td>&quot;ярче звёзд&quot;</td><td>&quot;video_29698502…</td><td>&quot;Ярче Звёзд 2 в…</td><td>1</td></tr><tr><td>&quot;ярче звёзд&quot;</td><td>&quot;video_583581&quot;</td><td>&quot;САЛОН, 1 сезон…</td><td>1</td></tr><tr><td>&quot;ярче звёзд&quot;</td><td>&quot;video_17345005…</td><td>&quot;Перевоплощение…</td><td>1</td></tr><tr><td>&quot;ярче звёзд&quot;</td><td>&quot;video_7696783&quot;</td><td>&quot;Шоу Воли, 27 в…</td><td>1</td></tr><tr><td>&quot;ярче звёзд&quot;</td><td>&quot;video_26796430…</td><td>&quot;Ярче звезд 4 в…</td><td>1</td></tr></tbody></table></div>"
      ],
      "text/plain": [
       "shape: (84_754, 4)\n",
       "┌───────────────────┬────────────────┬───────────────────────────────────┬───────┐\n",
       "│ query             ┆ video_id       ┆ video_title                       ┆ count │\n",
       "│ ---               ┆ ---            ┆ ---                               ┆ ---   │\n",
       "│ str               ┆ str            ┆ str                               ┆ u32   │\n",
       "╞═══════════════════╪════════════════╪═══════════════════════════════════╪═══════╡\n",
       "│  channel29646416  ┆ video_8845225  ┆ Отдыхает разумно в свободное вре… ┆ 1873  │\n",
       "│  channel29646416  ┆ video_30032971 ┆ Thai Ridgeback 🦋 Rhene Nadin     ┆ 6     │\n",
       "│                   ┆                ┆ Dae…                              ┆       │\n",
       "│  Битва сильнейших ┆ video_4414305  ┆ Экстрасенсы. Битва сильнейших, 1… ┆ 24    │\n",
       "│  Битва сильнейших ┆ video_25036288 ┆ Экстрасенсы. Битва сильнейших, 6… ┆ 23    │\n",
       "│ …                 ┆ …              ┆ …                                 ┆ …     │\n",
       "│ ярче звёзд        ┆ video_583581   ┆ САЛОН, 1 сезон, 3 выпуск          ┆ 1     │\n",
       "│ ярче звёзд        ┆ video_17345005 ┆ Перевоплощение в Aqua — «Barbie … ┆ 1     │\n",
       "│ ярче звёзд        ┆ video_7696783  ┆ Шоу Воли, 27 выпуск               ┆ 1     │\n",
       "│ ярче звёзд        ┆ video_26796430 ┆ Ярче звезд 4 выпуск 28 октября 2… ┆ 1     │\n",
       "└───────────────────┴────────────────┴───────────────────────────────────┴───────┘"
      ]
     },
     "execution_count": 50,
     "metadata": {},
     "output_type": "execute_result"
    }
   ],
   "source": [
    "test = pl.read_parquet('our_datasets/test_dataset_top_2000.parquet')\n",
    "test"
   ]
  },
  {
   "cell_type": "code",
   "execution_count": 53,
   "id": "6c52353a-8fbe-4ef1-9245-a3307393f45a",
   "metadata": {},
   "outputs": [],
   "source": [
    "sub=[]\n",
    "for q in test['query'].unique()[:30]:\n",
    "    sub.append(list(map(lambda x: [q,x['id']],emb.search(q, 5))))\n",
    "    "
   ]
  },
  {
   "cell_type": "code",
   "execution_count": 54,
   "id": "b4924bb5-44b1-4ad4-8acb-888f24ad3390",
   "metadata": {},
   "outputs": [
    {
     "data": {
      "text/plain": [
       "[[['Спартак ЦСКА', 'video_29844362'],\n",
       "  ['Спартак ЦСКА', 'video_7924137'],\n",
       "  ['Спартак ЦСКА', 'video_8507765'],\n",
       "  ['Спартак ЦСКА', 'video_4966571'],\n",
       "  ['Спартак ЦСКА', 'video_13881969']],\n",
       " [['маска 4 сезон финал', 'video_26736823'],\n",
       "  ['маска 4 сезон финал', 'video_14612198'],\n",
       "  ['маска 4 сезон финал', 'video_33994641'],\n",
       "  ['маска 4 сезон финал', 'video_17606212'],\n",
       "  ['маска 4 сезон финал', 'video_21171280']],\n",
       " [['адская кухня', 'video_12766367'],\n",
       "  ['адская кухня', 'video_11940373'],\n",
       "  ['адская кухня', 'video_14547050'],\n",
       "  ['адская кухня', 'video_12466567'],\n",
       "  ['адская кухня', 'video_12464843']],\n",
       " [['Мужское женское 2016', 'video_24926278'],\n",
       "  ['Мужское женское 2016', 'video_30146879'],\n",
       "  ['Мужское женское 2016', 'video_22973319'],\n",
       "  ['Мужское женское 2016', 'video_25225500'],\n",
       "  ['Мужское женское 2016', 'video_3366979']],\n",
       " [['уральские пельмени', 'video_12642564'],\n",
       "  ['уральские пельмени', 'video_20944368'],\n",
       "  ['уральские пельмени', 'video_24890544'],\n",
       "  ['уральские пельмени', 'video_11342542'],\n",
       "  ['уральские пельмени', 'video_4231541']],\n",
       " [['влад череватый', 'video_14233155'],\n",
       "  ['влад череватый', 'video_33235000'],\n",
       "  ['влад череватый', 'video_11395119'],\n",
       "  ['влад череватый', 'video_22800511'],\n",
       "  ['влад череватый', 'video_12979883']],\n",
       " [['спартак балтика', 'video_23238300'],\n",
       "  ['спартак балтика', 'video_16606933'],\n",
       "  ['спартак балтика', 'video_12775166'],\n",
       "  ['спартак балтика', 'video_19509249'],\n",
       "  ['спартак балтика', 'video_29609756']],\n",
       " [['первый отдел 1 сезон', 'video_10419388'],\n",
       "  ['первый отдел 1 сезон', 'video_11896475'],\n",
       "  ['первый отдел 1 сезон', 'video_1000021'],\n",
       "  ['первый отдел 1 сезон', 'video_14381330'],\n",
       "  ['первый отдел 1 сезон', 'video_8122215']],\n",
       " [['марина кравец', 'video_16060362'],\n",
       "  ['марина кравец', 'video_6761168'],\n",
       "  ['марина кравец', 'video_1319323'],\n",
       "  ['марина кравец', 'video_12912196'],\n",
       "  ['марина кравец', 'video_11936442']],\n",
       " [['Краснодар Ростов', 'video_3708290'],\n",
       "  ['Краснодар Ростов', 'video_24846449'],\n",
       "  ['Краснодар Ростов', 'video_33930992'],\n",
       "  ['Краснодар Ростов', 'video_23236892'],\n",
       "  ['Краснодар Ростов', 'video_12000184']],\n",
       " [['Спартак цска', 'video_29844362'],\n",
       "  ['Спартак цска', 'video_7924137'],\n",
       "  ['Спартак цска', 'video_8507765'],\n",
       "  ['Спартак цска', 'video_4966571'],\n",
       "  ['Спартак цска', 'video_13881969']],\n",
       " [['шоу маска', 'video_30555241'],\n",
       "  ['шоу маска', 'video_6606632'],\n",
       "  ['шоу маска', 'video_18193564'],\n",
       "  ['шоу маска', 'video_33027002'],\n",
       "  ['шоу маска', 'video_13716093']],\n",
       " [['КАК ПРОЙТИ ONLY UP! ЗА 4 МИНУТЫ', 'video_4095595'],\n",
       "  ['КАК ПРОЙТИ ONLY UP! ЗА 4 МИНУТЫ', 'video_5155433'],\n",
       "  ['КАК ПРОЙТИ ONLY UP! ЗА 4 МИНУТЫ', 'video_6655059'],\n",
       "  ['КАК ПРОЙТИ ONLY UP! ЗА 4 МИНУТЫ', 'video_413463'],\n",
       "  ['КАК ПРОЙТИ ONLY UP! ЗА 4 МИНУТЫ', 'video_9347078']],\n",
       " [['ОВР Шоу: Мэр во дворе', 'video_15489894'],\n",
       "  ['ОВР Шоу: Мэр во дворе', 'video_26155625'],\n",
       "  ['ОВР Шоу: Мэр во дворе', 'video_14837767'],\n",
       "  ['ОВР Шоу: Мэр во дворе', 'video_31818484'],\n",
       "  ['ОВР Шоу: Мэр во дворе', 'video_21497905']],\n",
       " [['дубаи', 'video_14229138'],\n",
       "  ['дубаи', 'video_2383145'],\n",
       "  ['дубаи', 'video_15825755'],\n",
       "  ['дубаи', 'video_6463690'],\n",
       "  ['дубаи', 'video_9711685']],\n",
       " [['шоу воли ', 'video_30289519'],\n",
       "  ['шоу воли ', 'video_8956550'],\n",
       "  ['шоу воли ', 'video_31161375'],\n",
       "  ['шоу воли ', 'video_23757324'],\n",
       "  ['шоу воли ', 'video_29310662']],\n",
       " [['битва экстрасенсов 23 сезон 7 выпуск 22 октября 2022', 'video_32948490'],\n",
       "  ['битва экстрасенсов 23 сезон 7 выпуск 22 октября 2022', 'video_14391959'],\n",
       "  ['битва экстрасенсов 23 сезон 7 выпуск 22 октября 2022', 'video_5501836'],\n",
       "  ['битва экстрасенсов 23 сезон 7 выпуск 22 октября 2022', 'video_18620044'],\n",
       "  ['битва экстрасенсов 23 сезон 7 выпуск 22 октября 2022', 'video_12830221']],\n",
       " [['Вернувшиеся', 'video_13490888'],\n",
       "  ['Вернувшиеся', 'video_11717612'],\n",
       "  ['Вернувшиеся', 'video_13200433'],\n",
       "  ['Вернувшиеся', 'video_11125773'],\n",
       "  ['Вернувшиеся', 'video_9327335']],\n",
       " [['Иван Абрамов', 'video_27092007'],\n",
       "  ['Иван Абрамов', 'video_6214808'],\n",
       "  ['Иван Абрамов', 'video_14351177'],\n",
       "  ['Иван Абрамов', 'video_5317211'],\n",
       "  ['Иван Абрамов', 'video_11966008']],\n",
       " [['Битва экстрасенсов 23 сезон 13 выпуск 3 декабря 2022', 'video_13031037'],\n",
       "  ['Битва экстрасенсов 23 сезон 13 выпуск 3 декабря 2022', 'video_5837066'],\n",
       "  ['Битва экстрасенсов 23 сезон 13 выпуск 3 декабря 2022', 'video_34171991'],\n",
       "  ['Битва экстрасенсов 23 сезон 13 выпуск 3 декабря 2022', 'video_13323948'],\n",
       "  ['Битва экстрасенсов 23 сезон 13 выпуск 3 декабря 2022', 'video_13032589']],\n",
       " [['серж горелый', 'video_28762829'],\n",
       "  ['серж горелый', 'video_8512215'],\n",
       "  ['серж горелый', 'video_14232042'],\n",
       "  ['серж горелый', 'video_5837354'],\n",
       "  ['серж горелый', 'video_7032078']],\n",
       " [['мультики для детей', 'video_28582072'],\n",
       "  ['мультики для детей', 'video_32814007'],\n",
       "  ['мультики для детей', 'video_26552885'],\n",
       "  ['мультики для детей', 'video_25912095'],\n",
       "  ['мультики для детей', 'video_19998096']],\n",
       " [['Куда Я пропал???! Наука с Рутубиком', 'video_25561616'],\n",
       "  ['Куда Я пропал???! Наука с Рутубиком', 'video_7456255'],\n",
       "  ['Куда Я пропал???! Наука с Рутубиком', 'video_20221586'],\n",
       "  ['Куда Я пропал???! Наука с Рутубиком', 'video_13426124'],\n",
       "  ['Куда Я пропал???! Наука с Рутубиком', 'video_15006841']],\n",
       " [['новые пацанки', 'video_3334318'],\n",
       "  ['новые пацанки', 'video_1222635'],\n",
       "  ['новые пацанки', 'video_14445943'],\n",
       "  ['новые пацанки', 'video_25311852'],\n",
       "  ['новые пацанки', 'video_357814']],\n",
       " [['братаны 2', 'video_11919241'],\n",
       "  ['братаны 2', 'video_14078143'],\n",
       "  ['братаны 2', 'video_306676'],\n",
       "  ['братаны 2', 'video_17616320'],\n",
       "  ['братаны 2', 'video_20344323']],\n",
       " [['Новые звезды в Африке 9 выпуск', 'video_30933565'],\n",
       "  ['Новые звезды в Африке 9 выпуск', 'video_6763973'],\n",
       "  ['Новые звезды в Африке 9 выпуск', 'video_13494191'],\n",
       "  ['Новые звезды в Африке 9 выпуск', 'video_28350505'],\n",
       "  ['Новые звезды в Африке 9 выпуск', 'video_32232683']],\n",
       " [['Молодые ножи', 'video_11827203'],\n",
       "  ['Молодые ножи', 'video_10226491'],\n",
       "  ['Молодые ножи', 'video_468883'],\n",
       "  ['Молодые ножи', 'video_12414978'],\n",
       "  ['Молодые ножи', 'video_18240953']],\n",
       " [['где логика', 'video_33014603'],\n",
       "  ['где логика', 'video_18535189'],\n",
       "  ['где логика', 'video_18535825'],\n",
       "  ['где логика', 'video_7717976'],\n",
       "  ['где логика', 'video_30934286']],\n",
       " [['Лига городов ', 'video_20238608'],\n",
       "  ['Лига городов ', 'video_5644991'],\n",
       "  ['Лига городов ', 'video_8572302'],\n",
       "  ['Лига городов ', 'video_33938952'],\n",
       "  ['Лига городов ', 'video_8921893']],\n",
       " [['жизнь по вызову 2', 'video_16976034'],\n",
       "  ['жизнь по вызову 2', 'video_32957384'],\n",
       "  ['жизнь по вызову 2', 'video_26979877'],\n",
       "  ['жизнь по вызову 2', 'video_3897601'],\n",
       "  ['жизнь по вызову 2', 'video_22104617']]]"
      ]
     },
     "execution_count": 54,
     "metadata": {},
     "output_type": "execute_result"
    }
   ],
   "source": [
    "sub"
   ]
  },
  {
   "cell_type": "code",
   "execution_count": 60,
   "id": "45099bd0-792e-44f3-a9f0-5b009042bf91",
   "metadata": {},
   "outputs": [
    {
     "data": {
      "text/plain": [
       "2"
      ]
     },
     "execution_count": 60,
     "metadata": {},
     "output_type": "execute_result"
    }
   ],
   "source": [
    "len(sub[0][0])"
   ]
  },
  {
   "cell_type": "code",
   "execution_count": 57,
   "id": "ab14ebd2-eebf-4c48-a33d-848fb50cc1d3",
   "metadata": {},
   "outputs": [],
   "source": [
    "from sklearn.metrics import ndcg_score\n"
   ]
  },
  {
   "cell_type": "code",
   "execution_count": null,
   "id": "f769f6e3-e5e9-4894-af5d-3970ceed9955",
   "metadata": {},
   "outputs": [],
   "source": []
  }
 ],
 "metadata": {
  "kernelspec": {
   "display_name": "Python 3 (ipykernel)",
   "language": "python",
   "name": "python3"
  },
  "language_info": {
   "codemirror_mode": {
    "name": "ipython",
    "version": 3
   },
   "file_extension": ".py",
   "mimetype": "text/x-python",
   "name": "python",
   "nbconvert_exporter": "python",
   "pygments_lexer": "ipython3",
   "version": "3.11.6"
  }
 },
 "nbformat": 4,
 "nbformat_minor": 5
}
