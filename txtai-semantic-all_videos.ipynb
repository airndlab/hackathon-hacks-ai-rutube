{
 "cells": [
  {
   "cell_type": "code",
   "execution_count": 1,
   "id": "7d927550-7e1e-4aa9-b326-4b9048dcb8aa",
   "metadata": {
    "execution": {
     "iopub.execute_input": "2023-11-25T08:01:03.189416Z",
     "iopub.status.busy": "2023-11-25T08:01:03.189010Z",
     "iopub.status.idle": "2023-11-25T08:01:58.805408Z",
     "shell.execute_reply": "2023-11-25T08:01:58.804851Z",
     "shell.execute_reply.started": "2023-11-25T08:01:03.189398Z"
    }
   },
   "outputs": [],
   "source": [
    "import polars as pl\n",
    "\n",
    "df = pl.read_parquet('our_datasets/all_videos.parquet', columns=['video_id', 'video_title'])\n",
    "data = [(row['video_id'], row['video_title']) for row in df.rows(named=True)]\n",
    "del df"
   ]
  },
  {
   "cell_type": "code",
   "execution_count": null,
   "id": "49fe7147-9ed4-41e8-aa40-ba3a22faa158",
   "metadata": {
    "execution": {
     "iopub.execute_input": "2023-11-25T08:03:37.970236Z",
     "iopub.status.busy": "2023-11-25T08:03:37.969766Z"
    }
   },
   "outputs": [],
   "source": [
    "import txtai\n",
    "\n",
    "emb = txtai.Embeddings()\n",
    "emb.index(data)\n",
    "del data\n",
    "emb.info()"
   ]
  },
  {
   "cell_type": "code",
   "execution_count": null,
   "id": "7a88fd58-c9e1-484c-a71e-b0091d49e17f",
   "metadata": {},
   "outputs": [],
   "source": []
  }
 ],
 "metadata": {
  "kernelspec": {
   "display_name": "Python 3 (ipykernel)",
   "language": "python",
   "name": "python3"
  },
  "language_info": {
   "codemirror_mode": {
    "name": "ipython",
    "version": 3
   },
   "file_extension": ".py",
   "mimetype": "text/x-python",
   "name": "python",
   "nbconvert_exporter": "python",
   "pygments_lexer": "ipython3",
   "version": "3.11.6"
  }
 },
 "nbformat": 4,
 "nbformat_minor": 5
}
